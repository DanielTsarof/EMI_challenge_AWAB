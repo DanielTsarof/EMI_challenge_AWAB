{
 "cells": [
  {
   "cell_type": "code",
   "execution_count": 1,
   "id": "761193c2-df0a-4f15-9113-15afe00dd4a7",
   "metadata": {},
   "outputs": [],
   "source": [
    "from pathlib import Path\n",
    "from tqdm import tqdm"
   ]
  },
  {
   "cell_type": "code",
   "execution_count": 31,
   "id": "6025f3d5-0f66-46b3-8159-1c4b94192937",
   "metadata": {},
   "outputs": [
    {
     "name": "stdout",
     "output_type": "stream",
     "text": [
      "Device: cuda\n"
     ]
    }
   ],
   "source": [
    "DATA_ROOT   = Path(\"/media/dtsarev/SatSSD/data\")\n",
    "TRAIN_CSV   = DATA_ROOT / \"train_split.csv\"\n",
    "VAL_CSV     = DATA_ROOT / \"valid_split.csv\"\n",
    "\n",
    "EMB_IMG_DIR = Path(\"./cached_embeddings_img\")\n",
    "EMB_AUD_DIR = Path(\"./audio_hubert_embeds\")\n",
    "EMB_TXT_DIR = Path(\"./text_embeddings_roberta\")\n",
    "\n",
    "IMG_DIM     = 1280   # EfficientNet‑B0 last pooling layer\n",
    "AUD_DIM     = 768    # HuBERT large hidden size\n",
    "TXT_DIM     = 768    # RoBERTa‑base hidden size\n",
    "\n",
    "USE_AUDIO_STATS = True   # if True -> mean+std+min+max (4×768)\n",
    "\n",
    "PROJ_DIM        = 256    # output dim of each modality projection\n",
    "\n",
    "TRAIN_BATCH_SIZE = 128   # smaller batch helps convergence with new net\n",
    "NUM_EPOCHS       = 80\n",
    "LR               = 2e-4\n",
    "WEIGHT_DECAY     = 1e-4\n",
    "EARLY_STOP_PATIENCE = 10\n",
    "SEED = 42\n",
    "\n",
    "EMOTIONS = [\"Admiration\",\"Amusement\",\"Determination\",\"Empathic Pain\",\"Excitement\",\"Joy\"]\n",
    "NUM_CLASSES = len(EMOTIONS)\n",
    "\n",
    "device = \"cuda\" if __import__(\"torch\").cuda.is_available() else \"cpu\"\n",
    "print(\"Device:\", device)"
   ]
  },
  {
   "cell_type": "code",
   "execution_count": 3,
   "id": "f2c77008-a729-4590-add6-28a6eb497e14",
   "metadata": {},
   "outputs": [
    {
     "data": {
      "text/plain": [
       "<torch._C.Generator at 0x7768c3a05e50>"
      ]
     },
     "execution_count": 3,
     "metadata": {},
     "output_type": "execute_result"
    }
   ],
   "source": [
    "import random, numpy as np, pandas as pd, torch, torch.nn as nn, matplotlib.pyplot as plt\n",
    "from torch.utils.data import Dataset, DataLoader\n",
    "\n",
    "# reproducibility\n",
    "random.seed(SEED); np.random.seed(SEED); torch.manual_seed(SEED)"
   ]
  },
  {
   "cell_type": "code",
   "execution_count": 4,
   "id": "d4909252-7017-4c03-aef0-8d59e519cb90",
   "metadata": {},
   "outputs": [],
   "source": [
    "def load_npy(path:Path):\n",
    "    if not path.exists():\n",
    "        return None\n",
    "    arr = np.load(path)\n",
    "    return None if arr.size==0 else arr\n",
    "\n",
    "def aggregate_audio(arr:np.ndarray):\n",
    "    if arr is None:\n",
    "        return None\n",
    "    if arr.ndim==1:\n",
    "        return arr.astype(np.float32)\n",
    "    mean, std = arr.mean(0), arr.std(0)\n",
    "    mn, mx    = arr.min(0),  arr.max(0)\n",
    "    return np.concatenate([mean,std,mn,mx]).astype(np.float32) if USE_AUDIO_STATS else mean.astype(np.float32)"
   ]
  },
  {
   "cell_type": "code",
   "execution_count": 5,
   "id": "9777064d-3869-44b1-88dc-0c889200eb8c",
   "metadata": {},
   "outputs": [],
   "source": [
    "class MultiModalDataset(Dataset):\n",
    "    def __init__(self,csv_path:Path,tag:str):\n",
    "        df = pd.read_csv(csv_path,dtype={\"Filename\":str})\n",
    "        df['Filename']=df['Filename'].str.zfill(5)\n",
    "        self.samples=[]\n",
    "        self.targets=[]\n",
    "        for vid,*tgt in df[['Filename',*EMOTIONS]].values:\n",
    "            img = load_npy(EMB_IMG_DIR/f\"{vid}.npy\")\n",
    "            aud_path = next((p for p in [EMB_AUD_DIR/f\"{tag}_{vid}.npy\", EMB_AUD_DIR/f\"{vid}.npy\"] if p.exists()), None)\n",
    "            aud = load_npy(aud_path) if aud_path else None\n",
    "            txt = load_npy(EMB_TXT_DIR/f\"{vid}.npy\")\n",
    "            aud = aggregate_audio(aud)\n",
    "            if img is None or aud is None or txt is None:\n",
    "                continue\n",
    "            self.samples.append(np.concatenate([img,txt,aud]).astype(np.float32))\n",
    "            self.targets.append(np.array(tgt,dtype=np.float32))\n",
    "        self.samples=np.stack(self.samples)\n",
    "        self.targets=np.stack(self.targets)\n",
    "        print(f\"{tag}: {len(self.samples)} triples\")\n",
    "    def __len__(self): return len(self.samples)\n",
    "    def __getitem__(self,i):\n",
    "        return torch.from_numpy(self.samples[i]), torch.from_numpy(self.targets[i])"
   ]
  },
  {
   "cell_type": "code",
   "execution_count": 6,
   "id": "140fc5a1-305a-4029-835e-93e913ca53ac",
   "metadata": {},
   "outputs": [],
   "source": [
    "def pearson_corr(p,t):\n",
    "    vx,vy = p-p.mean(0), t-t.mean(0)\n",
    "    return (vx*vy).sum(0)/(torch.sqrt((vx**2).sum(0)*(vy**2).sum(0))+1e-8)\n",
    "\n",
    "class PearsonLoss(nn.Module):\n",
    "    def forward(self,p,t):\n",
    "        return 1-pearson_corr(p,t).mean()"
   ]
  },
  {
   "cell_type": "code",
   "execution_count": 7,
   "id": "b18e9c46-d0ee-4fa4-bdf1-c8611082d687",
   "metadata": {},
   "outputs": [],
   "source": [
    "class FusionRegressor(nn.Module):\n",
    "    def __init__(self, in_dim_img:int, in_dim_txt:int, in_dim_aud:int):\n",
    "        super().__init__()\n",
    "        self.in_dim_img=in_dim_img\n",
    "        self.in_dim_txt=in_dim_txt\n",
    "        self.in_dim_aud=in_dim_aud\n",
    "        self.proj_img = nn.Sequential(nn.LayerNorm(in_dim_img), nn.Linear(in_dim_img, PROJ_DIM), nn.GELU())\n",
    "        self.proj_txt = nn.Sequential(nn.LayerNorm(in_dim_txt), nn.Linear(in_dim_txt, PROJ_DIM), nn.GELU())\n",
    "        self.proj_aud = nn.Sequential(nn.LayerNorm(in_dim_aud), nn.Linear(in_dim_aud, PROJ_DIM), nn.GELU())\n",
    "        self.head = nn.Sequential(\n",
    "            nn.Linear(PROJ_DIM*3, 512), nn.ReLU(), nn.Dropout(0.4),\n",
    "            nn.Linear(512, 256), nn.ReLU(), nn.Dropout(0.3),\n",
    "            nn.Linear(256, NUM_CLASSES), nn.Sigmoid()\n",
    "        )\n",
    "    def forward(self,x):\n",
    "        img = x[:,:self.in_dim_img]\n",
    "        txt = x[:,self.in_dim_img:self.in_dim_img+self.in_dim_txt]\n",
    "        aud = x[:,self.in_dim_img+self.in_dim_txt:]\n",
    "        h = torch.cat([self.proj_img(img), self.proj_txt(txt), self.proj_aud(aud)], dim=-1)\n",
    "        return self.head(h)"
   ]
  },
  {
   "cell_type": "code",
   "execution_count": 35,
   "id": "c1d2fbbc-4dfb-4418-84d1-f53d7f004f64",
   "metadata": {},
   "outputs": [
    {
     "name": "stdout",
     "output_type": "stream",
     "text": [
      "train: 7953 triples\n",
      "val: 4565 triples\n"
     ]
    }
   ],
   "source": [
    "train_ds = MultiModalDataset(TRAIN_CSV,'train')\n",
    "val_ds   = MultiModalDataset(VAL_CSV,'val')\n",
    "train_dl = DataLoader(train_ds,batch_size=TRAIN_BATCH_SIZE,shuffle=True,drop_last=True)\n",
    "val_dl   = DataLoader(val_ds,  batch_size=TRAIN_BATCH_SIZE,shuffle=False)\n",
    "\n",
    "feat_sample,_ = next(iter(train_dl))\n",
    "IMG_DIM = EMB_IMG_DIR.glob('*.npy').__next__().stat().st_size  # dummy, real slice already known\n",
    "TXT_DIM = 768\n",
    "AUD_DIM = 768*4 if USE_AUDIO_STATS else 768\n",
    "\n",
    "model = FusionRegressor(feat_sample.shape[1]-TXT_DIM-AUD_DIM, TXT_DIM, AUD_DIM).to(device)\n",
    "loss_fn = PearsonLoss()\n",
    "opt     = torch.optim.AdamW(model.parameters(), lr=LR, weight_decay=WEIGHT_DECAY)\n",
    "sched   = torch.optim.lr_scheduler.ReduceLROnPlateau(opt, factor=0.5, patience=5)"
   ]
  },
  {
   "cell_type": "code",
   "execution_count": 36,
   "id": "d6fff395-870b-4d8b-8028-7cb93254f474",
   "metadata": {},
   "outputs": [
    {
     "name": "stdout",
     "output_type": "stream",
     "text": [
      "Ep01: Ltr 0.985 Lval 0.939 | Rtr 0.015 Rval 0.061\n",
      "Ep02: Ltr 0.955 Lval 0.918 | Rtr 0.045 Rval 0.082\n",
      "Ep03: Ltr 0.862 Lval 0.819 | Rtr 0.138 Rval 0.181\n",
      "Ep04: Ltr 0.762 Lval 0.765 | Rtr 0.238 Rval 0.235\n",
      "Ep05: Ltr 0.685 Lval 0.732 | Rtr 0.315 Rval 0.268\n",
      "Ep06: Ltr 0.630 Lval 0.703 | Rtr 0.370 Rval 0.297\n",
      "Ep07: Ltr 0.593 Lval 0.685 | Rtr 0.407 Rval 0.315\n",
      "Ep08: Ltr 0.564 Lval 0.677 | Rtr 0.436 Rval 0.323\n",
      "Ep09: Ltr 0.531 Lval 0.672 | Rtr 0.469 Rval 0.328\n",
      "Ep10: Ltr 0.513 Lval 0.663 | Rtr 0.487 Rval 0.337\n",
      "Ep11: Ltr 0.499 Lval 0.658 | Rtr 0.501 Rval 0.342\n",
      "Ep12: Ltr 0.476 Lval 0.667 | Rtr 0.524 Rval 0.333\n",
      "Ep13: Ltr 0.468 Lval 0.662 | Rtr 0.532 Rval 0.338\n",
      "Ep14: Ltr 0.454 Lval 0.667 | Rtr 0.546 Rval 0.333\n",
      "Ep15: Ltr 0.438 Lval 0.665 | Rtr 0.562 Rval 0.335\n",
      "Ep16: Ltr 0.421 Lval 0.671 | Rtr 0.579 Rval 0.329\n",
      "Ep17: Ltr 0.406 Lval 0.667 | Rtr 0.594 Rval 0.333\n",
      "Ep18: Ltr 0.376 Lval 0.665 | Rtr 0.624 Rval 0.335\n",
      "Ep19: Ltr 0.361 Lval 0.666 | Rtr 0.639 Rval 0.334\n",
      "Ep20: Ltr 0.353 Lval 0.670 | Rtr 0.647 Rval 0.330\n",
      "Ep21: Ltr 0.345 Lval 0.669 | Rtr 0.655 Rval 0.331\n",
      "Early stop\n"
     ]
    },
    {
     "data": {
      "text/plain": [
       "<All keys matched successfully>"
      ]
     },
     "execution_count": 36,
     "metadata": {},
     "output_type": "execute_result"
    }
   ],
   "source": [
    "hist={k:[] for k in ['tl','vl','tr','vr']}\n",
    "best_r=-1e9\n",
    "wait=0\n",
    "\n",
    "for epoch in range(1,NUM_EPOCHS+1):\n",
    "    for phase,dl in [('train',train_dl),('val',val_dl)]:\n",
    "        is_train=(phase=='train')\n",
    "        if is_train:\n",
    "            model.train()\n",
    "        else:\n",
    "            model.eval()\n",
    "        loss_tot=r_tot=n=0\n",
    "        for xb,yb in dl:\n",
    "            xb,yb = xb.to(device), yb.to(device)\n",
    "            if is_train: opt.zero_grad()\n",
    "            with torch.set_grad_enabled(is_train):\n",
    "                pred = model(xb)\n",
    "                loss = loss_fn(pred,yb)\n",
    "                if is_train: loss.backward()\n",
    "                    nn.utils.clip_grad_norm_(model.parameters(),1.0)\n",
    "                    opt.step()\n",
    "            r = pearson_corr(pred,yb).mean().item()\n",
    "            bs=xb.size(0)\n",
    "            loss_tot+=loss.item()*bs\n",
    "            r_tot+=r*bs\n",
    "            n+=bs\n",
    "        hist_key = ('t' if phase=='train' else 'v')\n",
    "        hist[f'{hist_key}l'].append(loss_tot/n)\n",
    "        hist[f'{hist_key}r'].append(r_tot/n)\n",
    "    sched.step(hist['vl'][-1])\n",
    "    print(f\"Ep{epoch:02d}: Ltr {hist['tl'][-1]:.3f} Lval {hist['vl'][-1]:.3f} | Rtr {hist['tr'][-1]:.3f} Rval {hist['vr'][-1]:.3f}\")\n",
    "    if hist['vr'][-1]>best_r+1e-4:\n",
    "        best_r=hist['vr'][-1]\n",
    "        best_state={k:v.cpu() for k,v in model.state_dict().items()}\n",
    "        wait=0\n",
    "    else:\n",
    "        wait+=1\n",
    "        if wait>=EARLY_STOP_PATIENCE:\n",
    "            print('Early stop')\n",
    "            break\n",
    "\n",
    "model.load_state_dict(best_state)"
   ]
  },
  {
   "cell_type": "code",
   "execution_count": 37,
   "id": "df161955-5160-488e-b332-17acd5dd3bca",
   "metadata": {},
   "outputs": [
    {
     "name": "stdout",
     "output_type": "stream",
     "text": [
      "Per‑emotion Pearson R (validation):\n",
      "Admiration      r=+0.421\n",
      "Amusement       r=+0.349\n",
      "Determination   r=+0.325\n",
      "Empathic Pain   r=+0.452\n",
      "Excitement      r=+0.293\n",
      "Joy             r=+0.297\n",
      "Mean r: +0.356\n"
     ]
    }
   ],
   "source": [
    "model.eval()\n",
    "preds,labels=[],[]\n",
    "\n",
    "with torch.no_grad():\n",
    "    for xb,yb in val_dl:\n",
    "        preds.append(model(xb.to(device)).cpu())\n",
    "        labels.append(yb)\n",
    "\n",
    "P=torch.cat(preds)\n",
    "T=torch.cat(labels)\n",
    "print(\"Per‑emotion Pearson R (validation):\")\n",
    "for i,e in enumerate(EMOTIONS):\n",
    "    r=pearson_corr(P[:,i],T[:,i]).item()\n",
    "    print(f\"{e:<15} r={r:+.3f}\")\n",
    "mean_r = pearson_corr(P,T).mean().item()\n",
    "print(f\"Mean r: {mean_r:+.3f}\")"
   ]
  },
  {
   "cell_type": "code",
   "execution_count": 26,
   "id": "d9b14f79-dd7f-4751-b180-4332ca46aca5",
   "metadata": {},
   "outputs": [
    {
     "data": {
      "image/png": "[encoded data removed]",
      "text/plain": [
       "<Figure size 1000x400 with 2 Axes>"
      ]
     },
     "metadata": {},
     "output_type": "display_data"
    }
   ],
   "source": [
    "plt.figure(figsize=(10,4))\n",
    "plt.subplot(1,2,1)\n",
    "plt.plot(hist['tl'],label='train')\n",
    "plt.plot(hist['vl'],label='val')\n",
    "plt.title('Loss')\n",
    "plt.xlabel('epoch')\n",
    "plt.legend()\n",
    "plt.subplot(1,2,2)\n",
    "plt.plot(hist['tr'],label='train')\n",
    "plt.plot(hist['vr'],label='val')\n",
    "plt.title('Pearson R')\n",
    "plt.xlabel('epoch')\n",
    "plt.legend()\n",
    "plt.tight_layout()\n",
    "plt.show()"
   ]
  },
  {
   "cell_type": "code",
   "execution_count": 40,
   "id": "a1cf2316-05bc-428d-87b1-78a3f0beaf58",
   "metadata": {},
   "outputs": [
    {
     "name": "stdout",
     "output_type": "stream",
     "text": [
      "Per‑emotion modality weights (IMG, AUD, TXT): [[0.002 0.133 0.076 0.104 0.118 0.17 ]\n",
      " [0.436 0.324 0.373 0.468 0.41  0.382]\n",
      " [0.562 0.542 0.551 0.428 0.472 0.448]]\n",
      "Provide txt_val_preds.npy, aud_val_preds.npy, img_val_preds.npy to evaluate weighted ensemble.\n"
     ]
    }
   ],
   "source": [
    "# Per‑emotion correlations reported for each single modality\n",
    "R_TXT = np.array([0.4732,0.3510,0.3656,0.3886,0.3360,0.3089])   # Adm,Amu,Det,Emp,Exc,Joy\n",
    "R_AUD = np.array([0.3672,0.2098,0.2472,0.4252,0.2922,0.2632])\n",
    "R_IMG = np.array([0.0019,0.0863,0.0502,0.0941,0.0842,0.1171])\n",
    "R_stack = np.stack([R_IMG,R_AUD,R_TXT],axis=0)           # shape (3,6)\n",
    "W = R_stack / R_stack.sum(0,keepdims=True)               # normalised weights (mod,emo)\n",
    "print(\"Per‑emotion modality weights (IMG, AUD, TXT):\", np.round(W,3))\n",
    "\n",
    "# --- load validation predictions of each unimodal regressor ---\n",
    "try:\n",
    "    preds_txt = np.load('txt_val_preds.npy')   # shape (N,6)\n",
    "    preds_aud = np.load('aud_val_preds.npy')\n",
    "    preds_img = np.load('img_val_preds.npy')\n",
    "    assert preds_txt.shape==preds_aud.shape==preds_img.shape==P.shape\n",
    "    P_ens = (W[2]*preds_txt + W[1]*preds_aud + W[0]*preds_img)\n",
    "    ens_r = pearson_corr(torch.tensor(P_ens), T).item()\n",
    "    print(f\"Weighted ensemble mean R: {ens_r:+.3f}\")\n",
    "except FileNotFoundError:\n",
    "    print(\"Provide txt_val_preds.npy, aud_val_preds.npy, img_val_preds.npy to evaluate weighted ensemble.\")"
   ]
  },
  {
   "cell_type": "code",
   "execution_count": 16,
   "id": "501d0e6a-bc38-49c0-a829-2e2a51f3d3a4",
   "metadata": {},
   "outputs": [],
   "source": [
    "torch.save({'state_dict':model.state_dict(),'proj_dim':PROJ_DIM,'use_audio_stats':USE_AUDIO_STATS}, 'mm_regressor_v2.pth')"
   ]
  },
  {
   "cell_type": "code",
   "execution_count": null,
   "id": "921863fd-c455-41f8-8d88-8d0e33d260d9",
   "metadata": {},
   "outputs": [],
   "source": []
  },
  {
   "cell_type": "code",
   "execution_count": null,
   "id": "79ab4aea-2a76-418c-9240-94d0c050e2cd",
   "metadata": {},
   "outputs": [],
   "source": []
  },
  {
   "cell_type": "code",
   "execution_count": null,
   "id": "4cded07a-31bb-45b0-bc9d-a9236280284e",
   "metadata": {},
   "outputs": [],
   "source": []
  },
  {
   "cell_type": "code",
   "execution_count": null,
   "id": "558a3ca6-e5df-4859-9023-d05bd18f467b",
   "metadata": {},
   "outputs": [],
   "source": []
  }
 ],
 "metadata": {
  "kernelspec": {
   "display_name": "Python 3 (ipykernel)",
   "language": "python",
   "name": "python3"
  },
  "language_info": {
   "codemirror_mode": {
    "name": "ipython",
    "version": 3
   },
   "file_extension": ".py",
   "mimetype": "text/x-python",
   "name": "python",
   "nbconvert_exporter": "python",
   "pygments_lexer": "ipython3",
   "version": "3.10.12"
  }
 },
 "nbformat": 4,
 "nbformat_minor": 5
}
