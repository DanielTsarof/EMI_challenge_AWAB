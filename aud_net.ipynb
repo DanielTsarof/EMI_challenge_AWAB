{
 "cells": [
  {
   "cell_type": "code",
   "execution_count": 1,
   "id": "83cdfe6a-9dc7-4981-8f1d-59462edef931",
   "metadata": {},
   "outputs": [],
   "source": [
    "import os\n",
    "import torch\n",
    "import torchaudio\n",
    "import pandas as pd\n",
    "import numpy as np\n",
    "from torch import nn, optim\n",
    "from torch.utils.data import Dataset, DataLoader\n",
    "from torchvision import transforms\n",
    "from transformers import Wav2Vec2Model, Wav2Vec2Processor\n",
    "import matplotlib.pyplot as plt\n",
    "from torch.nn.utils.rnn import pad_sequence\n",
    "from tqdm import tqdm"
   ]
  },
  {
   "cell_type": "code",
   "execution_count": 2,
   "id": "fa85c697-81ac-4c94-9d77-467fee7abc68",
   "metadata": {},
   "outputs": [],
   "source": [
    "DATA_DIR = \"/media/dtsarev/SatSSD/data/audio\"\n",
    "TRAIN_CSV = \"/media/dtsarev/SatSSD/data/train_split.csv\"\n",
    "VAL_CSV = \"/media/dtsarev/SatSSD/data/valid_split.csv\"\n",
    "EMBED_DIR = \"./embeddings_wav2vec\"\n",
    "MODEL_NAME = \"facebook/wav2vec2-base\"\n",
    "BATCH_SIZE = 16\n",
    "EPOCHS = 50\n",
    "LEARNING_RATE = 1e-5\n",
    "DEVICE = torch.device(\"cuda\" if torch.cuda.is_available() else \"cpu\")\n",
    "OUTPUT_DIM = 6  # number of emotions\n",
    "BEST_MODEL_PATH = \"best_model.pth\"\n",
    "MAX_SEQ_LEN = 1000  # maximum sequence length for embeddings\n",
    "MAX_AUDIO_LEN_SEC = 12  # maximum audio length (seconds)\n",
    "\n",
    "os.makedirs(EMBED_DIR, exist_ok=True)"
   ]
  },
  {
   "cell_type": "code",
   "execution_count": 3,
   "id": "9095d7fa-9266-41e8-a544-0601a84321d0",
   "metadata": {},
   "outputs": [
    {
     "name": "stderr",
     "output_type": "stream",
     "text": [
      "/home/dtsarev/master_of_cv/DIPLOM/repos/venv/lib/python3.11/site-packages/transformers/configuration_utils.py:311: UserWarning: Passing `gradient_checkpointing` to a config initialization is deprecated and will be removed in v5 Transformers. Using `model.gradient_checkpointing_enable()` instead, or if you are using the `Trainer` API, pass `gradient_checkpointing=True` in your `TrainingArguments`.\n",
      "  warnings.warn(\n"
     ]
    },
    {
     "data": {
      "text/plain": [
       "Wav2Vec2Model(\n",
       "  (feature_extractor): Wav2Vec2FeatureEncoder(\n",
       "    (conv_layers): ModuleList(\n",
       "      (0): Wav2Vec2GroupNormConvLayer(\n",
       "        (conv): Conv1d(1, 512, kernel_size=(10,), stride=(5,), bias=False)\n",
       "        (activation): GELUActivation()\n",
       "        (layer_norm): GroupNorm(512, 512, eps=1e-05, affine=True)\n",
       "      )\n",
       "      (1-4): 4 x Wav2Vec2NoLayerNormConvLayer(\n",
       "        (conv): Conv1d(512, 512, kernel_size=(3,), stride=(2,), bias=False)\n",
       "        (activation): GELUActivation()\n",
       "      )\n",
       "      (5-6): 2 x Wav2Vec2NoLayerNormConvLayer(\n",
       "        (conv): Conv1d(512, 512, kernel_size=(2,), stride=(2,), bias=False)\n",
       "        (activation): GELUActivation()\n",
       "      )\n",
       "    )\n",
       "  )\n",
       "  (feature_projection): Wav2Vec2FeatureProjection(\n",
       "    (layer_norm): LayerNorm((512,), eps=1e-05, elementwise_affine=True)\n",
       "    (projection): Linear(in_features=512, out_features=768, bias=True)\n",
       "    (dropout): Dropout(p=0.1, inplace=False)\n",
       "  )\n",
       "  (encoder): Wav2Vec2Encoder(\n",
       "    (pos_conv_embed): Wav2Vec2PositionalConvEmbedding(\n",
       "      (conv): ParametrizedConv1d(\n",
       "        768, 768, kernel_size=(128,), stride=(1,), padding=(64,), groups=16\n",
       "        (parametrizations): ModuleDict(\n",
       "          (weight): ParametrizationList(\n",
       "            (0): _WeightNorm()\n",
       "          )\n",
       "        )\n",
       "      )\n",
       "      (padding): Wav2Vec2SamePadLayer()\n",
       "      (activation): GELUActivation()\n",
       "    )\n",
       "    (layer_norm): LayerNorm((768,), eps=1e-05, elementwise_affine=True)\n",
       "    (dropout): Dropout(p=0.1, inplace=False)\n",
       "    (layers): ModuleList(\n",
       "      (0-11): 12 x Wav2Vec2EncoderLayer(\n",
       "        (attention): Wav2Vec2SdpaAttention(\n",
       "          (k_proj): Linear(in_features=768, out_features=768, bias=True)\n",
       "          (v_proj): Linear(in_features=768, out_features=768, bias=True)\n",
       "          (q_proj): Linear(in_features=768, out_features=768, bias=True)\n",
       "          (out_proj): Linear(in_features=768, out_features=768, bias=True)\n",
       "        )\n",
       "        (dropout): Dropout(p=0.1, inplace=False)\n",
       "        (layer_norm): LayerNorm((768,), eps=1e-05, elementwise_affine=True)\n",
       "        (feed_forward): Wav2Vec2FeedForward(\n",
       "          (intermediate_dropout): Dropout(p=0.0, inplace=False)\n",
       "          (intermediate_dense): Linear(in_features=768, out_features=3072, bias=True)\n",
       "          (intermediate_act_fn): GELUActivation()\n",
       "          (output_dense): Linear(in_features=3072, out_features=768, bias=True)\n",
       "          (output_dropout): Dropout(p=0.1, inplace=False)\n",
       "        )\n",
       "        (final_layer_norm): LayerNorm((768,), eps=1e-05, elementwise_affine=True)\n",
       "      )\n",
       "    )\n",
       "  )\n",
       ")"
      ]
     },
     "execution_count": 3,
     "metadata": {},
     "output_type": "execute_result"
    }
   ],
   "source": [
    "processor = Wav2Vec2Processor.from_pretrained(MODEL_NAME)\n",
    "wav2vec = Wav2Vec2Model.from_pretrained(MODEL_NAME).to(DEVICE)\n",
    "wav2vec.eval()"
   ]
  },
  {
   "cell_type": "code",
   "execution_count": 4,
   "id": "901022d3-db80-4838-9675-98d0725cbb3d",
   "metadata": {},
   "outputs": [],
   "source": [
    "def extract_and_save_embeddings(csv_file, split_name):\n",
    "    df = pd.read_csv(csv_file, dtype={'Filename': str})\n",
    "    df['Filename'] = df['Filename'].str.zfill(5)\n",
    "    for _, row in df.iterrows():\n",
    "        fname = row['Filename']\n",
    "        mp3_path = os.path.join(DATA_DIR, f\"{fname}.mp3\")\n",
    "        emb_path = os.path.join(EMBED_DIR, f\"{split_name}_{fname}.pt\")\n",
    "        if os.path.exists(emb_path):\n",
    "            continue\n",
    "        try:\n",
    "            waveform, sr = torchaudio.load(mp3_path)\n",
    "            # skip empty files\n",
    "            if waveform.numel() == 0:\n",
    "                raise ValueError(\"Empty file\")\n",
    "            # truncate to MAX_AUDIO_LEN_SEC seconds\n",
    "            max_samples = sr * MAX_AUDIO_LEN_SEC\n",
    "            if waveform.size(1) > max_samples:\n",
    "                waveform = waveform[:, :max_samples]\n",
    "            # normalize waveform (zero mean, unit std)\n",
    "            waveform = waveform - waveform.mean()\n",
    "            std = waveform.std()\n",
    "            if std > 0:\n",
    "                waveform = waveform / std\n",
    "            else:\n",
    "                waveform = waveform / (waveform.abs().max() + 1e-8)\n",
    "            # extract embeddings\n",
    "            inputs = processor(waveform.squeeze().numpy(), sampling_rate=sr, return_tensors=\"pt\", padding=True)\n",
    "            input_values = inputs.input_values.to(DEVICE)\n",
    "            with torch.no_grad():\n",
    "                outputs = wav2vec(input_values)\n",
    "            hidden_states = outputs.last_hidden_state.squeeze(0).cpu()\n",
    "            torch.save(hidden_states, emb_path)\n",
    "        except Exception as e:\n",
    "            print(f\"Failed to process {mp3_path}: {e}\")"
   ]
  },
  {
   "cell_type": "code",
   "execution_count": 5,
   "id": "884f2fa3-7b91-49cb-b712-7970c2066642",
   "metadata": {},
   "outputs": [],
   "source": [
    "extract_and_save_embeddings(TRAIN_CSV, \"train\")\n",
    "extract_and_save_embeddings(VAL_CSV, \"val\")"
   ]
  },
  {
   "cell_type": "code",
   "execution_count": 6,
   "id": "b405fe01-9f08-46af-a6b8-d647e3d99ed6",
   "metadata": {},
   "outputs": [],
   "source": [
    "class AudioEmotionDataset(Dataset):\n",
    "    def __init__(self, csv_file, split_name):\n",
    "        df = pd.read_csv(csv_file, dtype={'Filename': str})\n",
    "        df['Filename'] = df['Filename'].str.zfill(5)\n",
    "        valid = df['Filename'].apply(\n",
    "            lambda f: os.path.exists(os.path.join(EMBED_DIR, f\"{split_name}_{f}.pt\"))\n",
    "        )\n",
    "        if (~valid).any():\n",
    "            print(f\"Warning: { (~valid).sum() } missing embeddings in {split_name}\")\n",
    "        self.df = df[valid].reset_index(drop=True)\n",
    "        self.split = split_name\n",
    "        self.labels = ['Admiration','Amusement','Determination','Empathic Pain','Excitement','Joy']\n",
    "        self.emotions = self.df[self.labels].values.astype(np.float32)\n",
    "\n",
    "    def __len__(self):\n",
    "        return len(self.df)\n",
    "\n",
    "    def __getitem__(self, idx):\n",
    "        fname = self.df.iloc[idx]['Filename']\n",
    "        emb = torch.load(os.path.join(EMBED_DIR, f\"{self.split}_{fname}.pt\"))\n",
    "        return emb, torch.tensor(self.emotions[idx])"
   ]
  },
  {
   "cell_type": "code",
   "execution_count": 7,
   "id": "6278004c-41a6-4db4-aae4-0a91dde03a5a",
   "metadata": {},
   "outputs": [],
   "source": [
    "# Pad sequences in batch\n",
    "def collate_fn(batch):\n",
    "    seqs, labels = zip(*batch)\n",
    "    seqs = [s[:MAX_SEQ_LEN] if s.size(0)>MAX_SEQ_LEN else s for s in seqs]\n",
    "    padded = pad_sequence(seqs, batch_first=True)\n",
    "    means = torch.stack([s.mean(dim=0) for s in seqs])\n",
    "    labels = torch.stack(labels)\n",
    "    return padded, means, labels"
   ]
  },
  {
   "cell_type": "code",
   "execution_count": 8,
   "id": "a91f151b-8fd8-4724-add3-2bc100b3ff55",
   "metadata": {},
   "outputs": [],
   "source": [
    "train_dataset = AudioEmotionDataset(TRAIN_CSV, \"train\")\n",
    "val_dataset = AudioEmotionDataset(VAL_CSV, \"val\")\n",
    "train_loader = DataLoader(train_dataset, batch_size=BATCH_SIZE, shuffle=True, collate_fn=collate_fn)\n",
    "val_loader = DataLoader(val_dataset, batch_size=BATCH_SIZE, shuffle=False, collate_fn=collate_fn)"
   ]
  },
  {
   "cell_type": "code",
   "execution_count": 9,
   "id": "aad769d0-caa7-4046-b575-2143ca4b9b77",
   "metadata": {},
   "outputs": [],
   "source": [
    "class FusionClassifier(nn.Module):\n",
    "    def __init__(self, hidden_size, fusion_dim=512, lstm_hidden=256, num_heads=8, num_layers=2, dropout=0.2):\n",
    "        super().__init__()\n",
    "        # Fusion projection for per-step + global mean\n",
    "        self.step_proj = nn.Linear(hidden_size * 2, fusion_dim)\n",
    "        # Transformer Encoder\n",
    "        encoder_layer = nn.TransformerEncoderLayer(d_model=fusion_dim, nhead=num_heads, dropout=dropout, batch_first=True)\n",
    "        self.transformer = nn.TransformerEncoder(encoder_layer, num_layers=num_layers)\n",
    "        # BiLSTM for temporal modeling\n",
    "        self.lstm = nn.LSTM(fusion_dim, lstm_hidden, batch_first=True, bidirectional=True)\n",
    "        # Attention pooling over LSTM outputs\n",
    "        self.attn = nn.Sequential(\n",
    "            nn.Linear(lstm_hidden * 2, 1),\n",
    "            nn.Softmax(dim=1)\n",
    "        )\n",
    "        # Final regression head\n",
    "        self.regressor = nn.Sequential(\n",
    "            nn.Linear(lstm_hidden * 2, fusion_dim),\n",
    "            nn.ReLU(),\n",
    "            nn.Dropout(dropout),\n",
    "            nn.Linear(fusion_dim, OUTPUT_DIM)\n",
    "        )\n",
    "\n",
    "    def forward(self, seq, global_mean):\n",
    "        # seq: (batch, seq_len, hidden), global_mean: (batch, hidden)\n",
    "        # expand global_mean to seq_len\n",
    "        gm = global_mean.unsqueeze(1).expand(-1, seq.size(1), -1)  # (batch, seq_len, hidden)\n",
    "        # concatenate\n",
    "        x = torch.cat([seq, gm], dim=-1)  # (batch, seq_len, hidden*2)\n",
    "        x = self.step_proj(x)  # (batch, seq_len, fusion_dim)\n",
    "        # transformer\n",
    "        x = self.transformer(x)\n",
    "        # LSTM\n",
    "        lstm_out, _ = self.lstm(x)  # (batch, seq_len, lstm_hidden*2)\n",
    "        # attention pooling\n",
    "        weights = self.attn(lstm_out).squeeze(-1)  # (batch, seq_len)\n",
    "        pooled = torch.bmm(weights.unsqueeze(1), lstm_out).squeeze(1)  # (batch, lstm_hidden*2)\n",
    "        # regression\n",
    "        return self.regressor(pooled)"
   ]
  },
  {
   "cell_type": "code",
   "execution_count": 10,
   "id": "0bd2f162-752f-4aba-a0d1-8e0b0412ec19",
   "metadata": {},
   "outputs": [],
   "source": [
    "model = FusionClassifier(\n",
    "    hidden_size=wav2vec.config.hidden_size,\n",
    "    fusion_dim=512,\n",
    "    lstm_hidden=256,\n",
    "    num_heads=8,\n",
    "    num_layers=2,\n",
    "    dropout=0.2\n",
    ").to(DEVICE)"
   ]
  },
  {
   "cell_type": "code",
   "execution_count": 10,
   "id": "f7095169-99ee-4cc7-aee8-02056b630cb0",
   "metadata": {},
   "outputs": [],
   "source": [
    "class AttentionClassifier(nn.Module):\n",
    "    def __init__(self, input_dim, hidden_dim, output_dim, n_heads=4, num_layers=2, dropout=0.1):\n",
    "        super().__init__()\n",
    "        # Project input embeddings to model dimension\n",
    "        self.proj = nn.Linear(input_dim, hidden_dim)\n",
    "        # Positional encoding helper (optional for single-token input, can skip)\n",
    "        # Define Transformer Encoder layers\n",
    "        encoder_layer = nn.TransformerEncoderLayer(\n",
    "            d_model=hidden_dim,\n",
    "            nhead=n_heads,\n",
    "            dim_feedforward=hidden_dim * 2,\n",
    "            dropout=dropout,\n",
    "            activation='relu',\n",
    "            batch_first=True\n",
    "        )\n",
    "        self.transformer = nn.TransformerEncoder(encoder_layer, num_layers=num_layers)\n",
    "        # Attention pooling: compute attention weights over sequence dimension\n",
    "        self.attn_pool = nn.Sequential(\n",
    "            nn.Linear(hidden_dim, 1),\n",
    "            nn.Softmax(dim=1)\n",
    "        )\n",
    "        # Classification head\n",
    "        self.classifier = nn.Sequential(\n",
    "            nn.Linear(hidden_dim, hidden_dim // 2),\n",
    "            nn.ReLU(),\n",
    "            nn.Dropout(dropout),\n",
    "            nn.Linear(hidden_dim // 2, output_dim)\n",
    "        )\n",
    "\n",
    "    def forward(self, x):\n",
    "        # x: (batch, input_dim)\n",
    "        h = self.proj(x)  # (batch, hidden_dim)\n",
    "        # Add sequence dimension (seq_len=1) and repeat if variable length already pooled\n",
    "        # Here, we treat projected embedding as single time-step\n",
    "        h = h.unsqueeze(1)  # (batch, 1, hidden_dim)\n",
    "        # Pass through transformer encoder\n",
    "        enc = self.transformer(h)  # (batch, 1, hidden_dim)\n",
    "        # Attention pooling across sequence (though seq_len=1, still applies)\n",
    "        attn_weights = self.attn_pool(enc).squeeze(-1)  # (batch, seq_len)\n",
    "        pooled = torch.bmm(attn_weights.unsqueeze(1), enc).squeeze(1)  # (batch, hidden_dim)\n",
    "        # Classification\n",
    "        return self.classifier(pooled)"
   ]
  },
  {
   "cell_type": "code",
   "execution_count": 11,
   "id": "9d407fbd-e69f-412a-8038-35c332cabe75",
   "metadata": {},
   "outputs": [],
   "source": [
    "input_dim = wav2vec.config.hidden_size\n",
    "model = AttentionClassifier(\n",
    "    input_dim=input_dim,\n",
    "    hidden_dim=512,\n",
    "    output_dim=OUTPUT_DIM,\n",
    "    n_heads=8,\n",
    "    num_layers=2,\n",
    "    dropout=0.2\n",
    ").to(DEVICE)"
   ]
  },
  {
   "cell_type": "code",
   "execution_count": 11,
   "id": "a0e903a1-1ec3-4f3f-be67-e9aa1c505a1b",
   "metadata": {},
   "outputs": [],
   "source": [
    "def pearson_corr(preds, targets):\n",
    "    preds = preds.detach().cpu()\n",
    "    targets = targets.detach().cpu()\n",
    "    vx = preds - preds.mean(0)\n",
    "    vy = targets - targets.mean(0)\n",
    "    corr = (vx * vy).sum(0) / (torch.sqrt((vx ** 2).sum(0) * (vy ** 2).sum(0)) + 1e-8)\n",
    "    return corr.mean().item()"
   ]
  },
  {
   "cell_type": "code",
   "execution_count": 12,
   "id": "66eb4214-7abe-4550-a61d-8d4fe7444c3e",
   "metadata": {},
   "outputs": [],
   "source": [
    "criterion = nn.MSELoss()\n",
    "optimizer = optim.Adam(model.parameters(), lr=LEARNING_RATE)\n",
    "scheduler = optim.lr_scheduler.ReduceLROnPlateau(optimizer, mode='min', factor=0.5, patience=3)"
   ]
  },
  {
   "cell_type": "code",
   "execution_count": 13,
   "id": "6de8aa1f-5be5-418d-a476-8f2baba37095",
   "metadata": {},
   "outputs": [],
   "source": [
    "def train_epoch(model, loader):\n",
    "    model.train()\n",
    "    running_loss = 0.0\n",
    "    running_corr = 0.0\n",
    "    for seqs, global_means, labels in tqdm(loader, desc=\"Training\"):\n",
    "        seqs = seqs.to(DEVICE)\n",
    "        global_means = global_means.to(DEVICE)\n",
    "        labels = labels.to(DEVICE)\n",
    "        optimizer.zero_grad()\n",
    "        preds = model(seqs, global_means)\n",
    "        loss = criterion(preds, labels)\n",
    "        loss.backward()\n",
    "        optimizer.step()\n",
    "        running_loss += loss.item()\n",
    "        running_corr += pearson_corr(preds, labels)\n",
    "    return running_loss / len(loader), running_corr / len(loader)\n",
    "\n",
    "def validate_epoch(model, loader):\n",
    "    model.eval()\n",
    "    running_loss = 0.0\n",
    "    running_corr = 0.0\n",
    "    all_preds = []\n",
    "    all_labels = []\n",
    "    with torch.no_grad():\n",
    "        for seqs, global_means, labels in tqdm(loader, desc=\"Validation\"):\n",
    "            seqs = seqs.to(DEVICE)\n",
    "            global_means = global_means.to(DEVICE)\n",
    "            labels = labels.to(DEVICE)\n",
    "            preds = model(seqs, global_means)\n",
    "            running_loss += criterion(preds, labels).item()\n",
    "            running_corr += pearson_corr(preds, labels)\n",
    "            all_preds.append(preds.cpu())\n",
    "            all_labels.append(labels.cpu())\n",
    "    all_preds = torch.cat(all_preds)\n",
    "    all_labels = torch.cat(all_labels)\n",
    "    return running_loss / len(loader), running_corr / len(loader), all_preds, all_labels"
   ]
  },
  {
   "cell_type": "code",
   "execution_count": 14,
   "id": "281f6751-198f-4238-a1e4-0dc00d956691",
   "metadata": {
    "scrolled": true
   },
   "outputs": [
    {
     "name": "stderr",
     "output_type": "stream",
     "text": [
      "Training: 100%|████████████████████████████████████████████████████████████████████████████████████████████████████████████████| 505/505 [00:34<00:00, 14.79it/s]\n",
      "Validation: 100%|██████████████████████████████████████████████████████████████████████████████████████████████████████████████| 287/287 [00:07<00:00, 37.87it/s]\n"
     ]
    },
    {
     "name": "stdout",
     "output_type": "stream",
     "text": [
      "Epoch 1 | Train Loss: 0.0429, Train Corr: 0.0265 | Val Loss: 0.0387, Val Corr: 0.0499\n",
      "-> New best model saved.\n"
     ]
    },
    {
     "name": "stderr",
     "output_type": "stream",
     "text": [
      "Training: 100%|████████████████████████████████████████████████████████████████████████████████████████████████████████████████| 505/505 [00:33<00:00, 14.96it/s]\n",
      "Validation: 100%|██████████████████████████████████████████████████████████████████████████████████████████████████████████████| 287/287 [00:07<00:00, 37.85it/s]\n"
     ]
    },
    {
     "name": "stdout",
     "output_type": "stream",
     "text": [
      "Epoch 2 | Train Loss: 0.0419, Train Corr: 0.0698 | Val Loss: 0.0384, Val Corr: 0.0581\n",
      "-> New best model saved.\n"
     ]
    },
    {
     "name": "stderr",
     "output_type": "stream",
     "text": [
      "Training: 100%|████████████████████████████████████████████████████████████████████████████████████████████████████████████████| 505/505 [00:34<00:00, 14.77it/s]\n",
      "Validation: 100%|██████████████████████████████████████████████████████████████████████████████████████████████████████████████| 287/287 [00:07<00:00, 38.01it/s]\n"
     ]
    },
    {
     "name": "stdout",
     "output_type": "stream",
     "text": [
      "Epoch 3 | Train Loss: 0.0416, Train Corr: 0.0985 | Val Loss: 0.0385, Val Corr: 0.0723\n"
     ]
    },
    {
     "name": "stderr",
     "output_type": "stream",
     "text": [
      "Training: 100%|████████████████████████████████████████████████████████████████████████████████████████████████████████████████| 505/505 [00:33<00:00, 14.85it/s]\n",
      "Validation: 100%|██████████████████████████████████████████████████████████████████████████████████████████████████████████████| 287/287 [00:07<00:00, 37.86it/s]\n"
     ]
    },
    {
     "name": "stdout",
     "output_type": "stream",
     "text": [
      "Epoch 4 | Train Loss: 0.0413, Train Corr: 0.1300 | Val Loss: 0.0382, Val Corr: 0.0781\n",
      "-> New best model saved.\n"
     ]
    },
    {
     "name": "stderr",
     "output_type": "stream",
     "text": [
      "Training: 100%|████████████████████████████████████████████████████████████████████████████████████████████████████████████████| 505/505 [00:34<00:00, 14.72it/s]\n",
      "Validation: 100%|██████████████████████████████████████████████████████████████████████████████████████████████████████████████| 287/287 [00:07<00:00, 37.68it/s]\n"
     ]
    },
    {
     "name": "stdout",
     "output_type": "stream",
     "text": [
      "Epoch 5 | Train Loss: 0.0410, Train Corr: 0.1442 | Val Loss: 0.0382, Val Corr: 0.0817\n",
      "-> New best model saved.\n"
     ]
    },
    {
     "name": "stderr",
     "output_type": "stream",
     "text": [
      "Training: 100%|████████████████████████████████████████████████████████████████████████████████████████████████████████████████| 505/505 [00:33<00:00, 14.86it/s]\n",
      "Validation: 100%|██████████████████████████████████████████████████████████████████████████████████████████████████████████████| 287/287 [00:07<00:00, 37.55it/s]\n"
     ]
    },
    {
     "name": "stdout",
     "output_type": "stream",
     "text": [
      "Epoch 6 | Train Loss: 0.0405, Train Corr: 0.1677 | Val Loss: 0.0393, Val Corr: 0.0889\n"
     ]
    },
    {
     "name": "stderr",
     "output_type": "stream",
     "text": [
      "Training: 100%|████████████████████████████████████████████████████████████████████████████████████████████████████████████████| 505/505 [00:33<00:00, 14.89it/s]\n",
      "Validation: 100%|██████████████████████████████████████████████████████████████████████████████████████████████████████████████| 287/287 [00:07<00:00, 37.57it/s]\n"
     ]
    },
    {
     "name": "stdout",
     "output_type": "stream",
     "text": [
      "Epoch 7 | Train Loss: 0.0403, Train Corr: 0.1786 | Val Loss: 0.0381, Val Corr: 0.0997\n",
      "-> New best model saved.\n"
     ]
    },
    {
     "name": "stderr",
     "output_type": "stream",
     "text": [
      "Training: 100%|████████████████████████████████████████████████████████████████████████████████████████████████████████████████| 505/505 [00:34<00:00, 14.68it/s]\n",
      "Validation: 100%|██████████████████████████████████████████████████████████████████████████████████████████████████████████████| 287/287 [00:07<00:00, 36.92it/s]\n"
     ]
    },
    {
     "name": "stdout",
     "output_type": "stream",
     "text": [
      "Epoch 8 | Train Loss: 0.0401, Train Corr: 0.1966 | Val Loss: 0.0385, Val Corr: 0.0965\n"
     ]
    },
    {
     "name": "stderr",
     "output_type": "stream",
     "text": [
      "Training: 100%|████████████████████████████████████████████████████████████████████████████████████████████████████████████████| 505/505 [00:34<00:00, 14.77it/s]\n",
      "Validation: 100%|██████████████████████████████████████████████████████████████████████████████████████████████████████████████| 287/287 [00:07<00:00, 37.80it/s]\n"
     ]
    },
    {
     "name": "stdout",
     "output_type": "stream",
     "text": [
      "Epoch 9 | Train Loss: 0.0395, Train Corr: 0.2198 | Val Loss: 0.0382, Val Corr: 0.0915\n"
     ]
    },
    {
     "name": "stderr",
     "output_type": "stream",
     "text": [
      "Training: 100%|████████████████████████████████████████████████████████████████████████████████████████████████████████████████| 505/505 [00:33<00:00, 14.90it/s]\n",
      "Validation: 100%|██████████████████████████████████████████████████████████████████████████████████████████████████████████████| 287/287 [00:07<00:00, 37.79it/s]\n"
     ]
    },
    {
     "name": "stdout",
     "output_type": "stream",
     "text": [
      "Epoch 10 | Train Loss: 0.0392, Train Corr: 0.2248 | Val Loss: 0.0380, Val Corr: 0.1013\n",
      "-> New best model saved.\n"
     ]
    },
    {
     "name": "stderr",
     "output_type": "stream",
     "text": [
      "Training: 100%|████████████████████████████████████████████████████████████████████████████████████████████████████████████████| 505/505 [00:33<00:00, 14.97it/s]\n",
      "Validation: 100%|██████████████████████████████████████████████████████████████████████████████████████████████████████████████| 287/287 [00:07<00:00, 37.22it/s]\n"
     ]
    },
    {
     "name": "stdout",
     "output_type": "stream",
     "text": [
      "Epoch 11 | Train Loss: 0.0388, Train Corr: 0.2416 | Val Loss: 0.0389, Val Corr: 0.1005\n"
     ]
    },
    {
     "name": "stderr",
     "output_type": "stream",
     "text": [
      "Training: 100%|████████████████████████████████████████████████████████████████████████████████████████████████████████████████| 505/505 [00:33<00:00, 14.93it/s]\n",
      "Validation: 100%|██████████████████████████████████████████████████████████████████████████████████████████████████████████████| 287/287 [00:07<00:00, 37.77it/s]\n"
     ]
    },
    {
     "name": "stdout",
     "output_type": "stream",
     "text": [
      "Epoch 12 | Train Loss: 0.0384, Train Corr: 0.2609 | Val Loss: 0.0384, Val Corr: 0.1035\n"
     ]
    },
    {
     "name": "stderr",
     "output_type": "stream",
     "text": [
      "Training: 100%|████████████████████████████████████████████████████████████████████████████████████████████████████████████████| 505/505 [00:34<00:00, 14.58it/s]\n",
      "Validation: 100%|██████████████████████████████████████████████████████████████████████████████████████████████████████████████| 287/287 [00:07<00:00, 37.46it/s]\n"
     ]
    },
    {
     "name": "stdout",
     "output_type": "stream",
     "text": [
      "Epoch 13 | Train Loss: 0.0379, Train Corr: 0.2746 | Val Loss: 0.0393, Val Corr: 0.1053\n"
     ]
    },
    {
     "name": "stderr",
     "output_type": "stream",
     "text": [
      "Training: 100%|████████████████████████████████████████████████████████████████████████████████████████████████████████████████| 505/505 [00:33<00:00, 14.93it/s]\n",
      "Validation: 100%|██████████████████████████████████████████████████████████████████████████████████████████████████████████████| 287/287 [00:07<00:00, 37.74it/s]\n"
     ]
    },
    {
     "name": "stdout",
     "output_type": "stream",
     "text": [
      "Epoch 14 | Train Loss: 0.0374, Train Corr: 0.2936 | Val Loss: 0.0394, Val Corr: 0.1052\n"
     ]
    },
    {
     "name": "stderr",
     "output_type": "stream",
     "text": [
      "Training: 100%|████████████████████████████████████████████████████████████████████████████████████████████████████████████████| 505/505 [00:33<00:00, 14.90it/s]\n",
      "Validation: 100%|██████████████████████████████████████████████████████████████████████████████████████████████████████████████| 287/287 [00:07<00:00, 37.88it/s]\n"
     ]
    },
    {
     "name": "stdout",
     "output_type": "stream",
     "text": [
      "Epoch 15 | Train Loss: 0.0363, Train Corr: 0.3182 | Val Loss: 0.0388, Val Corr: 0.1057\n"
     ]
    },
    {
     "name": "stderr",
     "output_type": "stream",
     "text": [
      "Training: 100%|████████████████████████████████████████████████████████████████████████████████████████████████████████████████| 505/505 [00:33<00:00, 14.96it/s]\n",
      "Validation: 100%|██████████████████████████████████████████████████████████████████████████████████████████████████████████████| 287/287 [00:07<00:00, 37.88it/s]\n"
     ]
    },
    {
     "name": "stdout",
     "output_type": "stream",
     "text": [
      "Epoch 16 | Train Loss: 0.0359, Train Corr: 0.3328 | Val Loss: 0.0392, Val Corr: 0.1029\n"
     ]
    },
    {
     "name": "stderr",
     "output_type": "stream",
     "text": [
      "Training: 100%|████████████████████████████████████████████████████████████████████████████████████████████████████████████████| 505/505 [00:33<00:00, 14.86it/s]\n",
      "Validation: 100%|██████████████████████████████████████████████████████████████████████████████████████████████████████████████| 287/287 [00:07<00:00, 37.70it/s]\n"
     ]
    },
    {
     "name": "stdout",
     "output_type": "stream",
     "text": [
      "Epoch 17 | Train Loss: 0.0355, Train Corr: 0.3479 | Val Loss: 0.0393, Val Corr: 0.1025\n"
     ]
    },
    {
     "name": "stderr",
     "output_type": "stream",
     "text": [
      "Training: 100%|████████████████████████████████████████████████████████████████████████████████████████████████████████████████| 505/505 [00:33<00:00, 14.89it/s]\n",
      "Validation: 100%|██████████████████████████████████████████████████████████████████████████████████████████████████████████████| 287/287 [00:07<00:00, 37.82it/s]\n"
     ]
    },
    {
     "name": "stdout",
     "output_type": "stream",
     "text": [
      "Epoch 18 | Train Loss: 0.0351, Train Corr: 0.3594 | Val Loss: 0.0392, Val Corr: 0.1045\n"
     ]
    },
    {
     "name": "stderr",
     "output_type": "stream",
     "text": [
      "Training: 100%|████████████████████████████████████████████████████████████████████████████████████████████████████████████████| 505/505 [00:33<00:00, 14.91it/s]\n",
      "Validation: 100%|██████████████████████████████████████████████████████████████████████████████████████████████████████████████| 287/287 [00:07<00:00, 37.69it/s]\n"
     ]
    },
    {
     "name": "stdout",
     "output_type": "stream",
     "text": [
      "Epoch 19 | Train Loss: 0.0344, Train Corr: 0.3743 | Val Loss: 0.0396, Val Corr: 0.1073\n"
     ]
    },
    {
     "name": "stderr",
     "output_type": "stream",
     "text": [
      "Training: 100%|████████████████████████████████████████████████████████████████████████████████████████████████████████████████| 505/505 [00:33<00:00, 14.93it/s]\n",
      "Validation: 100%|██████████████████████████████████████████████████████████████████████████████████████████████████████████████| 287/287 [00:07<00:00, 37.73it/s]\n"
     ]
    },
    {
     "name": "stdout",
     "output_type": "stream",
     "text": [
      "Epoch 20 | Train Loss: 0.0341, Train Corr: 0.3837 | Val Loss: 0.0393, Val Corr: 0.1090\n"
     ]
    },
    {
     "name": "stderr",
     "output_type": "stream",
     "text": [
      "Training: 100%|████████████████████████████████████████████████████████████████████████████████████████████████████████████████| 505/505 [00:33<00:00, 14.86it/s]\n",
      "Validation: 100%|██████████████████████████████████████████████████████████████████████████████████████████████████████████████| 287/287 [00:07<00:00, 37.73it/s]\n"
     ]
    },
    {
     "name": "stdout",
     "output_type": "stream",
     "text": [
      "Epoch 21 | Train Loss: 0.0339, Train Corr: 0.3902 | Val Loss: 0.0393, Val Corr: 0.1058\n"
     ]
    },
    {
     "name": "stderr",
     "output_type": "stream",
     "text": [
      "Training: 100%|████████████████████████████████████████████████████████████████████████████████████████████████████████████████| 505/505 [00:34<00:00, 14.79it/s]\n",
      "Validation: 100%|██████████████████████████████████████████████████████████████████████████████████████████████████████████████| 287/287 [00:07<00:00, 37.52it/s]\n"
     ]
    },
    {
     "name": "stdout",
     "output_type": "stream",
     "text": [
      "Epoch 22 | Train Loss: 0.0336, Train Corr: 0.3936 | Val Loss: 0.0395, Val Corr: 0.1048\n"
     ]
    },
    {
     "name": "stderr",
     "output_type": "stream",
     "text": [
      "Training: 100%|████████████████████████████████████████████████████████████████████████████████████████████████████████████████| 505/505 [00:33<00:00, 14.86it/s]\n",
      "Validation: 100%|██████████████████████████████████████████████████████████████████████████████████████████████████████████████| 287/287 [00:07<00:00, 37.96it/s]\n"
     ]
    },
    {
     "name": "stdout",
     "output_type": "stream",
     "text": [
      "Epoch 23 | Train Loss: 0.0332, Train Corr: 0.4085 | Val Loss: 0.0396, Val Corr: 0.1066\n"
     ]
    },
    {
     "name": "stderr",
     "output_type": "stream",
     "text": [
      "Training: 100%|████████████████████████████████████████████████████████████████████████████████████████████████████████████████| 505/505 [00:33<00:00, 14.90it/s]\n",
      "Validation: 100%|██████████████████████████████████████████████████████████████████████████████████████████████████████████████| 287/287 [00:07<00:00, 37.65it/s]\n"
     ]
    },
    {
     "name": "stdout",
     "output_type": "stream",
     "text": [
      "Epoch 24 | Train Loss: 0.0330, Train Corr: 0.4056 | Val Loss: 0.0398, Val Corr: 0.1054\n"
     ]
    },
    {
     "name": "stderr",
     "output_type": "stream",
     "text": [
      "Training: 100%|████████████████████████████████████████████████████████████████████████████████████████████████████████████████| 505/505 [00:34<00:00, 14.82it/s]\n",
      "Validation: 100%|██████████████████████████████████████████████████████████████████████████████████████████████████████████████| 287/287 [00:07<00:00, 37.66it/s]\n"
     ]
    },
    {
     "name": "stdout",
     "output_type": "stream",
     "text": [
      "Epoch 25 | Train Loss: 0.0328, Train Corr: 0.4138 | Val Loss: 0.0398, Val Corr: 0.1059\n"
     ]
    },
    {
     "name": "stderr",
     "output_type": "stream",
     "text": [
      "Training: 100%|████████████████████████████████████████████████████████████████████████████████████████████████████████████████| 505/505 [00:33<00:00, 14.88it/s]\n",
      "Validation: 100%|██████████████████████████████████████████████████████████████████████████████████████████████████████████████| 287/287 [00:07<00:00, 37.46it/s]\n"
     ]
    },
    {
     "name": "stdout",
     "output_type": "stream",
     "text": [
      "Epoch 26 | Train Loss: 0.0327, Train Corr: 0.4144 | Val Loss: 0.0398, Val Corr: 0.1058\n"
     ]
    },
    {
     "name": "stderr",
     "output_type": "stream",
     "text": [
      "Training: 100%|████████████████████████████████████████████████████████████████████████████████████████████████████████████████| 505/505 [00:33<00:00, 14.90it/s]\n",
      "Validation: 100%|██████████████████████████████████████████████████████████████████████████████████████████████████████████████| 287/287 [00:07<00:00, 37.63it/s]\n"
     ]
    },
    {
     "name": "stdout",
     "output_type": "stream",
     "text": [
      "Epoch 27 | Train Loss: 0.0325, Train Corr: 0.4148 | Val Loss: 0.0398, Val Corr: 0.1065\n"
     ]
    },
    {
     "name": "stderr",
     "output_type": "stream",
     "text": [
      "Training: 100%|████████████████████████████████████████████████████████████████████████████████████████████████████████████████| 505/505 [00:33<00:00, 14.87it/s]\n",
      "Validation: 100%|██████████████████████████████████████████████████████████████████████████████████████████████████████████████| 287/287 [00:07<00:00, 38.15it/s]\n"
     ]
    },
    {
     "name": "stdout",
     "output_type": "stream",
     "text": [
      "Epoch 28 | Train Loss: 0.0324, Train Corr: 0.4255 | Val Loss: 0.0399, Val Corr: 0.1052\n"
     ]
    },
    {
     "name": "stderr",
     "output_type": "stream",
     "text": [
      "Training: 100%|████████████████████████████████████████████████████████████████████████████████████████████████████████████████| 505/505 [00:33<00:00, 15.05it/s]\n",
      "Validation: 100%|██████████████████████████████████████████████████████████████████████████████████████████████████████████████| 287/287 [00:07<00:00, 38.19it/s]\n"
     ]
    },
    {
     "name": "stdout",
     "output_type": "stream",
     "text": [
      "Epoch 29 | Train Loss: 0.0323, Train Corr: 0.4239 | Val Loss: 0.0400, Val Corr: 0.1062\n"
     ]
    },
    {
     "name": "stderr",
     "output_type": "stream",
     "text": [
      "Training: 100%|████████████████████████████████████████████████████████████████████████████████████████████████████████████████| 505/505 [00:33<00:00, 14.95it/s]\n",
      "Validation: 100%|██████████████████████████████████████████████████████████████████████████████████████████████████████████████| 287/287 [00:07<00:00, 38.24it/s]\n"
     ]
    },
    {
     "name": "stdout",
     "output_type": "stream",
     "text": [
      "Epoch 30 | Train Loss: 0.0322, Train Corr: 0.4286 | Val Loss: 0.0399, Val Corr: 0.1055\n"
     ]
    },
    {
     "name": "stderr",
     "output_type": "stream",
     "text": [
      "Training: 100%|████████████████████████████████████████████████████████████████████████████████████████████████████████████████| 505/505 [00:33<00:00, 15.06it/s]\n",
      "Validation: 100%|██████████████████████████████████████████████████████████████████████████████████████████████████████████████| 287/287 [00:07<00:00, 38.08it/s]\n"
     ]
    },
    {
     "name": "stdout",
     "output_type": "stream",
     "text": [
      "Epoch 31 | Train Loss: 0.0321, Train Corr: 0.4295 | Val Loss: 0.0400, Val Corr: 0.1054\n"
     ]
    },
    {
     "name": "stderr",
     "output_type": "stream",
     "text": [
      "Training: 100%|████████████████████████████████████████████████████████████████████████████████████████████████████████████████| 505/505 [00:34<00:00, 14.82it/s]\n",
      "Validation: 100%|██████████████████████████████████████████████████████████████████████████████████████████████████████████████| 287/287 [00:07<00:00, 36.93it/s]\n"
     ]
    },
    {
     "name": "stdout",
     "output_type": "stream",
     "text": [
      "Epoch 32 | Train Loss: 0.0321, Train Corr: 0.4245 | Val Loss: 0.0399, Val Corr: 0.1061\n"
     ]
    },
    {
     "name": "stderr",
     "output_type": "stream",
     "text": [
      "Training: 100%|████████████████████████████████████████████████████████████████████████████████████████████████████████████████| 505/505 [00:35<00:00, 14.19it/s]\n",
      "Validation: 100%|██████████████████████████████████████████████████████████████████████████████████████████████████████████████| 287/287 [00:07<00:00, 36.54it/s]\n"
     ]
    },
    {
     "name": "stdout",
     "output_type": "stream",
     "text": [
      "Epoch 33 | Train Loss: 0.0321, Train Corr: 0.4270 | Val Loss: 0.0400, Val Corr: 0.1059\n"
     ]
    },
    {
     "name": "stderr",
     "output_type": "stream",
     "text": [
      "Training:  12%|█████████████▏                                                                                                   | 59/505 [00:04<00:31, 14.04it/s]\n"
     ]
    },
    {
     "ename": "KeyboardInterrupt",
     "evalue": "",
     "output_type": "error",
     "traceback": [
      "\u001b[31m---------------------------------------------------------------------------\u001b[39m",
      "\u001b[31mKeyboardInterrupt\u001b[39m                         Traceback (most recent call last)",
      "\u001b[36mCell\u001b[39m\u001b[36m \u001b[39m\u001b[32mIn[14]\u001b[39m\u001b[32m, line 7\u001b[39m\n\u001b[32m      4\u001b[39m epochs_no_improve = \u001b[32m0\u001b[39m\n\u001b[32m      6\u001b[39m \u001b[38;5;28;01mfor\u001b[39;00m epoch \u001b[38;5;129;01min\u001b[39;00m \u001b[38;5;28mrange\u001b[39m(\u001b[32m1\u001b[39m, EPOCHS + \u001b[32m1\u001b[39m):\n\u001b[32m----> \u001b[39m\u001b[32m7\u001b[39m     t_loss, t_corr = \u001b[43mtrain_epoch\u001b[49m\u001b[43m(\u001b[49m\u001b[43mmodel\u001b[49m\u001b[43m,\u001b[49m\u001b[43m \u001b[49m\u001b[43mtrain_loader\u001b[49m\u001b[43m)\u001b[49m\n\u001b[32m      8\u001b[39m     v_loss, v_corr, val_preds, val_labels = validate_epoch(model, val_loader)\n\u001b[32m     10\u001b[39m     train_losses.append(t_loss); val_losses.append(v_loss)\n",
      "\u001b[36mCell\u001b[39m\u001b[36m \u001b[39m\u001b[32mIn[13]\u001b[39m\u001b[32m, line 14\u001b[39m, in \u001b[36mtrain_epoch\u001b[39m\u001b[34m(model, loader)\u001b[39m\n\u001b[32m     12\u001b[39m     loss.backward()\n\u001b[32m     13\u001b[39m     optimizer.step()\n\u001b[32m---> \u001b[39m\u001b[32m14\u001b[39m     running_loss += \u001b[43mloss\u001b[49m\u001b[43m.\u001b[49m\u001b[43mitem\u001b[49m\u001b[43m(\u001b[49m\u001b[43m)\u001b[49m\n\u001b[32m     15\u001b[39m     running_corr += pearson_corr(preds, labels)\n\u001b[32m     16\u001b[39m \u001b[38;5;28;01mreturn\u001b[39;00m running_loss / \u001b[38;5;28mlen\u001b[39m(loader), running_corr / \u001b[38;5;28mlen\u001b[39m(loader)\n",
      "\u001b[31mKeyboardInterrupt\u001b[39m: "
     ]
    }
   ],
   "source": [
    "train_losses, val_losses = [], []\n",
    "train_corrs, val_corrs = [], []\n",
    "best_val_loss = float('inf')\n",
    "epochs_no_improve = 0\n",
    "\n",
    "for epoch in range(1, EPOCHS + 1):\n",
    "    t_loss, t_corr = train_epoch(model, train_loader)\n",
    "    v_loss, v_corr, val_preds, val_labels = validate_epoch(model, val_loader)\n",
    "\n",
    "    train_losses.append(t_loss); val_losses.append(v_loss)\n",
    "    train_corrs.append(t_corr); val_corrs.append(v_corr)\n",
    "\n",
    "    print(f\"Epoch {epoch} | Train Loss: {t_loss:.4f}, Train Corr: {t_corr:.4f} | \"\n",
    "          f\"Val Loss: {v_loss:.4f}, Val Corr: {v_corr:.4f}\")\n",
    "\n",
    "    # Scheduler step on validation loss\n",
    "    scheduler.step(v_loss)\n",
    "\n",
    "    # Check improvement for early stopping\n",
    "    if v_loss < best_val_loss:\n",
    "        best_val_loss = v_loss\n",
    "        torch.save(model.state_dict(), BEST_MODEL_PATH)\n",
    "        epochs_no_improve = 0\n",
    "        print(\"-> New best model saved.\")\n",
    "    else:\n",
    "        epochs_no_improve += 1\n",
    "        #if epochs_no_improve >= 5:\n",
    "        #    print(\"Stopping early: no improvement in validation loss for 5 epochs.\")\n",
    "        #    break"
   ]
  },
  {
   "cell_type": "code",
   "execution_count": 15,
   "id": "e1e80308-4ac3-406c-81d4-d185a4f4e0dd",
   "metadata": {},
   "outputs": [
    {
     "data": {
      "image/png": "[encoded data removed]",
      "text/plain": [
       "<Figure size 640x480 with 1 Axes>"
      ]
     },
     "metadata": {},
     "output_type": "display_data"
    },
    {
     "data": {
      "image/png": "[encoded data removed]",
      "text/plain": [
       "<Figure size 640x480 with 1 Axes>"
      ]
     },
     "metadata": {},
     "output_type": "display_data"
    }
   ],
   "source": [
    "plt.figure()\n",
    "plt.plot(range(1, len(train_losses)+1), train_losses, label='Train Loss')\n",
    "plt.plot(range(1, len(val_losses)+1), val_losses, label='Val Loss')\n",
    "plt.xlabel('Epoch'); plt.ylabel('Loss'); plt.legend(); plt.show()\n",
    "\n",
    "plt.figure()\n",
    "plt.plot(range(1, len(train_corrs)+1), train_corrs, label='Train Pearson')\n",
    "plt.plot(range(1, len(val_corrs)+1), val_corrs, label='Val Pearson')\n",
    "plt.xlabel('Epoch'); plt.ylabel('Pearson Correlation'); plt.legend(); plt.show()"
   ]
  },
  {
   "cell_type": "code",
   "execution_count": 15,
   "id": "03b57829-fc7a-498b-b55d-4835abb47bf8",
   "metadata": {},
   "outputs": [
    {
     "name": "stdout",
     "output_type": "stream",
     "text": [
      "Per-emotion Pearson correlation on validation set:\n",
      "Admiration: 0.1016\n",
      "Amusement: 0.1357\n",
      "Determination: 0.1346\n",
      "Empathic Pain: 0.0564\n",
      "Excitement: 0.1675\n",
      "Joy: 0.1209\n"
     ]
    }
   ],
   "source": [
    "labels = ['Admiration', 'Amusement', 'Determination', 'Empathic Pain', 'Excitement', 'Joy']\n",
    "per_emotion_corr = {}\n",
    "for i, emo in enumerate(labels):\n",
    "    px = val_preds[:, i] - val_preds[:, i].mean()\n",
    "    ty = val_labels[:, i] - val_labels[:, i].mean()\n",
    "    per_emotion_corr[emo] = ((px * ty).sum() / (torch.sqrt((px**2).sum() * (ty**2).sum()) + 1e-8)).item()\n",
    "print(\"Per-emotion Pearson correlation on validation set:\")\n",
    "for emo, corr in per_emotion_corr.items():\n",
    "    print(f\"{emo}: {corr:.4f}\")"
   ]
  },
  {
   "cell_type": "code",
   "execution_count": null,
   "id": "88b6f60e-4196-487b-ae9e-a0fc85099df4",
   "metadata": {},
   "outputs": [],
   "source": []
  }
 ],
 "metadata": {
  "kernelspec": {
   "display_name": "Python 3 (ipykernel)",
   "language": "python",
   "name": "python3"
  },
  "language_info": {
   "codemirror_mode": {
    "name": "ipython",
    "version": 3
   },
   "file_extension": ".py",
   "mimetype": "text/x-python",
   "name": "python",
   "nbconvert_exporter": "python",
   "pygments_lexer": "ipython3",
   "version": "3.11.4"
  }
 },
 "nbformat": 4,
 "nbformat_minor": 5
}
