{
 "cells": [
  {
   "cell_type": "code",
   "execution_count": 1,
   "id": "04dab19f-bf9c-4f94-97a5-633083567554",
   "metadata": {},
   "outputs": [],
   "source": [
    "import os\n",
    "import torch\n",
    "import torchaudio\n",
    "import pandas as pd\n",
    "import numpy as np\n",
    "from torch import nn\n",
    "from torch.utils.data import Dataset, DataLoader\n",
    "from transformers import Wav2Vec2Model, Wav2Vec2Processor\n",
    "from torch.cuda.amp import autocast, GradScaler\n",
    "from tqdm.auto import tqdm\n",
    "import matplotlib.pyplot as plt"
   ]
  },
  {
   "cell_type": "code",
   "execution_count": 2,
   "id": "eba39cef-8b08-448e-bc47-a68f33ea399d",
   "metadata": {},
   "outputs": [],
   "source": [
    "BASE = \"/media/dtsarev/SatSSD/data\"\n",
    "AUDIO_DIR = f\"{BASE}/audio\"\n",
    "TRAIN_CSV = f\"{BASE}/train_split.csv\"\n",
    "VAL_CSV   = f\"{BASE}/valid_split.csv\"\n",
    "EMB_DIR = \"./embeddings_wav2vec\"\n",
    "MODEL_NAME = \"facebook/wav2vec2-base\"\n",
    "\n",
    "SR           = 16_000   # target sample‑rate\n",
    "MAX_SEC      = 12       # max audio length (sec)\n",
    "BATCH_SIZE   = 32\n",
    "LR           = 1e-4\n",
    "EPOCHS       = 30\n",
    "CLIP_NORM    = 1.0\n",
    "PATIENCE     = 5\n",
    "DEVICE       = torch.device(\"cuda\" if torch.cuda.is_available() else \"cpu\")"
   ]
  },
  {
   "cell_type": "code",
   "execution_count": 3,
   "id": "3a6d32bf-60a5-4262-abe9-380a8bad68bd",
   "metadata": {},
   "outputs": [],
   "source": [
    "os.makedirs(EMB_DIR, exist_ok=True)"
   ]
  },
  {
   "cell_type": "code",
   "execution_count": 5,
   "id": "00201f9e-455e-40c9-a5f7-d88b010c3a92",
   "metadata": {},
   "outputs": [
    {
     "name": "stderr",
     "output_type": "stream",
     "text": [
      "/home/dtsarev/master_of_cv/DIPLOM/repos/venv/lib/python3.11/site-packages/transformers/configuration_utils.py:311: UserWarning: Passing `gradient_checkpointing` to a config initialization is deprecated and will be removed in v5 Transformers. Using `model.gradient_checkpointing_enable()` instead, or if you are using the `Trainer` API, pass `gradient_checkpointing=True` in your `TrainingArguments`.\n",
      "  warnings.warn(\n"
     ]
    },
    {
     "data": {
      "application/vnd.jupyter.widget-view+json": {
       "model_id": "5f2b9dd1a16942159204a108b9eff454",
       "version_major": 2,
       "version_minor": 0
      },
      "text/plain": [
       "train feats:   0%|          | 0/8072 [00:00<?, ?it/s]"
      ]
     },
     "metadata": {},
     "output_type": "display_data"
    },
    {
     "data": {
      "application/vnd.jupyter.widget-view+json": {
       "model_id": "45d641c4576b4646899ac01d93f84e22",
       "version_major": 2,
       "version_minor": 0
      },
      "text/plain": [
       "val feats:   0%|          | 0/4588 [00:00<?, ?it/s]"
      ]
     },
     "metadata": {},
     "output_type": "display_data"
    }
   ],
   "source": [
    "proc = Wav2Vec2Processor.from_pretrained(MODEL_NAME)\n",
    "w2v  = Wav2Vec2Model.from_pretrained(MODEL_NAME).to(DEVICE).eval()\n",
    "\n",
    "@torch.no_grad()\n",
    "def extract_w2v(path):\n",
    "    wav, sr = torchaudio.load(path)\n",
    "    if sr != SR:\n",
    "        wav = torchaudio.functional.resample(wav, sr, SR)\n",
    "    wav = wav[:, :SR * MAX_SEC]\n",
    "    wav = (wav - wav.mean()) / (wav.std() + 1e-6)\n",
    "    inp = proc(wav.squeeze().numpy(), sampling_rate=SR, return_tensors=\"pt\", padding=True)\n",
    "    hidden = w2v(inp.input_values.to(DEVICE)).last_hidden_state.squeeze(0).cpu()\n",
    "    # Debug: check for NaNs\n",
    "    if torch.isnan(hidden).any():\n",
    "        print(f\"NaNs detected in wav2vec embeddings for {path}\")\n",
    "    return hidden\n",
    "\n",
    "for split, csv in [(\"train\", TRAIN_CSV), (\"val\", VAL_CSV)]:\n",
    "    df = pd.read_csv(csv, dtype={\"Filename\":str})\n",
    "    df[\"Filename\"] = df[\"Filename\"].str.zfill(5)\n",
    "    for fn in tqdm(df[\"Filename\"], desc=f\"{split} feats\"):\n",
    "        save_p = f\"{EMB_DIR}/{split}_{fn}.pt\"\n",
    "        if os.path.exists(save_p):\n",
    "            continue\n",
    "        try:\n",
    "            feat = extract_w2v(f\"{AUDIO_DIR}/{fn}.mp3\")\n",
    "            torch.save(feat, save_p)\n",
    "        except Exception as e:\n",
    "            print(\"skip\", fn, e)"
   ]
  },
  {
   "cell_type": "code",
   "execution_count": 6,
   "id": "502d1eaa-1ae4-49da-a65a-699626b68fb9",
   "metadata": {},
   "outputs": [],
   "source": [
    "EMOS = ['Admiration','Amusement','Determination','Empathic Pain','Excitement','Joy']\n",
    "\n",
    "class W2VDataset(Dataset):\n",
    "    def __init__(self, csv, split):\n",
    "        df = pd.read_csv(csv, dtype={\"Filename\":str})\n",
    "        df[\"Filename\"] = df[\"Filename\"].str.zfill(5)\n",
    "        self.paths = [f\"{EMB_DIR}/{split}_{fn}.pt\" for fn in df[\"Filename\"]]\n",
    "        self.labels = df[EMOS].values.astype(np.float32)\n",
    "        # Check first vector dim to set globally\n",
    "        sample_emb = torch.load(self.paths[0])\n",
    "        self.emb_dim = sample_emb.size(1) * 2  # mean+std concat\n",
    "    def __len__(self):\n",
    "        return len(self.paths)\n",
    "    def __getitem__(self, i):\n",
    "        emb = torch.load(self.paths[i])            # (T,H)\n",
    "        mu  = emb.mean(0)\n",
    "        sig = emb.std(0)\n",
    "        vec = torch.cat([mu, sig])                 # (2H,)\n",
    "        return vec, torch.tensor(self.labels[i])\n",
    "\n",
    "\n",
    "def collate(batch):\n",
    "    x, y = zip(*batch)\n",
    "    return torch.stack(x), torch.stack(y)\n",
    "\n",
    "tr_ds = W2VDataset(TRAIN_CSV, \"train\")\n",
    "vl_ds = W2VDataset(VAL_CSV,   \"val\")\n",
    "IN_DIM = tr_ds.emb_dim  # dynamic input size\n",
    "\n",
    "tr_dl = DataLoader(tr_ds, batch_size=BATCH_SIZE, shuffle=True, collate_fn=collate)\n",
    "vl_dl = DataLoader(vl_ds, batch_size=BATCH_SIZE, shuffle=False, collate_fn=collate)"
   ]
  },
  {
   "cell_type": "code",
   "execution_count": 7,
   "id": "bb0a8a66-b4b8-4243-96ac-daf26a22903a",
   "metadata": {},
   "outputs": [],
   "source": [
    "class MLP(nn.Module):\n",
    "    def __init__(self, in_dim, hid=512, out_dim=6):\n",
    "        super().__init__()\n",
    "        self.net = nn.Sequential(\n",
    "            nn.LayerNorm(in_dim),\n",
    "            nn.Linear(in_dim, hid),\n",
    "            nn.GELU(),\n",
    "            nn.Dropout(0.3),\n",
    "            nn.Linear(hid, hid//2),\n",
    "            nn.GELU(),\n",
    "            nn.Dropout(0.3),\n",
    "            nn.Linear(hid//2, out_dim)\n",
    "        )\n",
    "    def forward(self, x):\n",
    "        return self.net(x)\n",
    "\n",
    "model = MLP(IN_DIM).to(DEVICE).to(DEVICE)"
   ]
  },
  {
   "cell_type": "code",
   "execution_count": 8,
   "id": "027f670e-82b8-4dad-9462-d1fc014d70bc",
   "metadata": {},
   "outputs": [
    {
     "name": "stderr",
     "output_type": "stream",
     "text": [
      "/tmp/ipykernel_196045/1814323951.py:4: FutureWarning: `torch.cuda.amp.GradScaler(args...)` is deprecated. Please use `torch.amp.GradScaler('cuda', args...)` instead.\n",
      "  scaler = GradScaler()\n"
     ]
    },
    {
     "data": {
      "application/vnd.jupyter.widget-view+json": {
       "model_id": "627e838217ca4a169bb714908d3263ac",
       "version_major": 2,
       "version_minor": 0
      },
      "text/plain": [
       "Train 1:   0%|          | 0/253 [00:00<?, ?it/s]"
      ]
     },
     "metadata": {},
     "output_type": "display_data"
    },
    {
     "name": "stderr",
     "output_type": "stream",
     "text": [
      "/tmp/ipykernel_196045/1814323951.py:14: FutureWarning: `torch.cuda.amp.autocast(args...)` is deprecated. Please use `torch.amp.autocast('cuda', args...)` instead.\n",
      "  with autocast():\n"
     ]
    },
    {
     "name": "stdout",
     "output_type": "stream",
     "text": [
      "Epoch 1: train 0.0439, val 0.0384\n",
      "saved\n"
     ]
    },
    {
     "data": {
      "application/vnd.jupyter.widget-view+json": {
       "model_id": "24904102bef94421bcbcf795a63c36c1",
       "version_major": 2,
       "version_minor": 0
      },
      "text/plain": [
       "Train 2:   0%|          | 0/253 [00:00<?, ?it/s]"
      ]
     },
     "metadata": {},
     "output_type": "display_data"
    },
    {
     "name": "stdout",
     "output_type": "stream",
     "text": [
      "Epoch 2: train 0.0424, val 0.0382\n",
      "saved\n"
     ]
    },
    {
     "data": {
      "application/vnd.jupyter.widget-view+json": {
       "model_id": "fe313957dab042d0b142233b859a6897",
       "version_major": 2,
       "version_minor": 0
      },
      "text/plain": [
       "Train 3:   0%|          | 0/253 [00:00<?, ?it/s]"
      ]
     },
     "metadata": {},
     "output_type": "display_data"
    },
    {
     "name": "stdout",
     "output_type": "stream",
     "text": [
      "Epoch 3: train 0.0420, val 0.0385\n"
     ]
    },
    {
     "data": {
      "application/vnd.jupyter.widget-view+json": {
       "model_id": "645fe15cc88942f49e3cc3e635b1b078",
       "version_major": 2,
       "version_minor": 0
      },
      "text/plain": [
       "Train 4:   0%|          | 0/253 [00:00<?, ?it/s]"
      ]
     },
     "metadata": {},
     "output_type": "display_data"
    },
    {
     "name": "stdout",
     "output_type": "stream",
     "text": [
      "Epoch 4: train 0.0418, val 0.0380\n",
      "saved\n"
     ]
    },
    {
     "data": {
      "application/vnd.jupyter.widget-view+json": {
       "model_id": "58d539f179ec442087dce98ca72cdc11",
       "version_major": 2,
       "version_minor": 0
      },
      "text/plain": [
       "Train 5:   0%|          | 0/253 [00:00<?, ?it/s]"
      ]
     },
     "metadata": {},
     "output_type": "display_data"
    },
    {
     "name": "stdout",
     "output_type": "stream",
     "text": [
      "Epoch 5: train 0.0415, val 0.0383\n"
     ]
    },
    {
     "data": {
      "application/vnd.jupyter.widget-view+json": {
       "model_id": "45a89909e1264191a9146951d4cd4100",
       "version_major": 2,
       "version_minor": 0
      },
      "text/plain": [
       "Train 6:   0%|          | 0/253 [00:00<?, ?it/s]"
      ]
     },
     "metadata": {},
     "output_type": "display_data"
    },
    {
     "name": "stdout",
     "output_type": "stream",
     "text": [
      "Epoch 6: train 0.0414, val 0.0379\n",
      "saved\n"
     ]
    },
    {
     "data": {
      "application/vnd.jupyter.widget-view+json": {
       "model_id": "9fd8cd82f994404da0cc008fef17f7fb",
       "version_major": 2,
       "version_minor": 0
      },
      "text/plain": [
       "Train 7:   0%|          | 0/253 [00:00<?, ?it/s]"
      ]
     },
     "metadata": {},
     "output_type": "display_data"
    },
    {
     "name": "stdout",
     "output_type": "stream",
     "text": [
      "Epoch 7: train 0.0412, val 0.0386\n"
     ]
    },
    {
     "data": {
      "application/vnd.jupyter.widget-view+json": {
       "model_id": "c605c992f5c846b6956bab5df5c4d03e",
       "version_major": 2,
       "version_minor": 0
      },
      "text/plain": [
       "Train 8:   0%|          | 0/253 [00:00<?, ?it/s]"
      ]
     },
     "metadata": {},
     "output_type": "display_data"
    },
    {
     "name": "stdout",
     "output_type": "stream",
     "text": [
      "Epoch 8: train 0.0413, val 0.0380\n"
     ]
    },
    {
     "data": {
      "application/vnd.jupyter.widget-view+json": {
       "model_id": "e93b7f8bb19a40b19da41bf5c5079624",
       "version_major": 2,
       "version_minor": 0
      },
      "text/plain": [
       "Train 9:   0%|          | 0/253 [00:00<?, ?it/s]"
      ]
     },
     "metadata": {},
     "output_type": "display_data"
    },
    {
     "name": "stdout",
     "output_type": "stream",
     "text": [
      "Epoch 9: train 0.0409, val 0.0379\n",
      "saved\n"
     ]
    },
    {
     "data": {
      "application/vnd.jupyter.widget-view+json": {
       "model_id": "36d06486f9cd4ce39adef8eb568e8f65",
       "version_major": 2,
       "version_minor": 0
      },
      "text/plain": [
       "Train 10:   0%|          | 0/253 [00:00<?, ?it/s]"
      ]
     },
     "metadata": {},
     "output_type": "display_data"
    },
    {
     "name": "stdout",
     "output_type": "stream",
     "text": [
      "Epoch 10: train 0.0408, val 0.0380\n"
     ]
    },
    {
     "data": {
      "application/vnd.jupyter.widget-view+json": {
       "model_id": "bbb8ca5500e9441696f5947a6bc28d69",
       "version_major": 2,
       "version_minor": 0
      },
      "text/plain": [
       "Train 11:   0%|          | 0/253 [00:00<?, ?it/s]"
      ]
     },
     "metadata": {},
     "output_type": "display_data"
    },
    {
     "name": "stdout",
     "output_type": "stream",
     "text": [
      "Epoch 11: train 0.0406, val 0.0379\n"
     ]
    },
    {
     "data": {
      "application/vnd.jupyter.widget-view+json": {
       "model_id": "d1f790425c3640ec99fd7bec26e15c09",
       "version_major": 2,
       "version_minor": 0
      },
      "text/plain": [
       "Train 12:   0%|          | 0/253 [00:00<?, ?it/s]"
      ]
     },
     "metadata": {},
     "output_type": "display_data"
    },
    {
     "name": "stdout",
     "output_type": "stream",
     "text": [
      "Epoch 12: train 0.0405, val 0.0393\n"
     ]
    },
    {
     "data": {
      "application/vnd.jupyter.widget-view+json": {
       "model_id": "f59c613ba5de4d918fb776a76f6c4fa7",
       "version_major": 2,
       "version_minor": 0
      },
      "text/plain": [
       "Train 13:   0%|          | 0/253 [00:00<?, ?it/s]"
      ]
     },
     "metadata": {},
     "output_type": "display_data"
    },
    {
     "name": "stdout",
     "output_type": "stream",
     "text": [
      "Epoch 13: train 0.0401, val 0.0379\n"
     ]
    },
    {
     "data": {
      "application/vnd.jupyter.widget-view+json": {
       "model_id": "f035493ff561448aa4b5e9a886962048",
       "version_major": 2,
       "version_minor": 0
      },
      "text/plain": [
       "Train 14:   0%|          | 0/253 [00:00<?, ?it/s]"
      ]
     },
     "metadata": {},
     "output_type": "display_data"
    },
    {
     "name": "stdout",
     "output_type": "stream",
     "text": [
      "Epoch 14: train 0.0399, val 0.0379\n",
      "saved\n"
     ]
    },
    {
     "data": {
      "application/vnd.jupyter.widget-view+json": {
       "model_id": "731359e9162b4172b80ef7a769615660",
       "version_major": 2,
       "version_minor": 0
      },
      "text/plain": [
       "Train 15:   0%|          | 0/253 [00:00<?, ?it/s]"
      ]
     },
     "metadata": {},
     "output_type": "display_data"
    },
    {
     "name": "stdout",
     "output_type": "stream",
     "text": [
      "Epoch 15: train 0.0397, val 0.0381\n"
     ]
    },
    {
     "data": {
      "application/vnd.jupyter.widget-view+json": {
       "model_id": "19373b34ea7c494c99ae5ad3dedb9288",
       "version_major": 2,
       "version_minor": 0
      },
      "text/plain": [
       "Train 16:   0%|          | 0/253 [00:00<?, ?it/s]"
      ]
     },
     "metadata": {},
     "output_type": "display_data"
    },
    {
     "name": "stdout",
     "output_type": "stream",
     "text": [
      "Epoch 16: train 0.0397, val 0.0379\n"
     ]
    },
    {
     "data": {
      "application/vnd.jupyter.widget-view+json": {
       "model_id": "173c1f3c6b81412c9b8f7155e5f5cabf",
       "version_major": 2,
       "version_minor": 0
      },
      "text/plain": [
       "Train 17:   0%|          | 0/253 [00:00<?, ?it/s]"
      ]
     },
     "metadata": {},
     "output_type": "display_data"
    },
    {
     "name": "stdout",
     "output_type": "stream",
     "text": [
      "Epoch 17: train 0.0396, val 0.0378\n",
      "saved\n"
     ]
    },
    {
     "data": {
      "application/vnd.jupyter.widget-view+json": {
       "model_id": "ee83e51badab4084a570beb8e8a6f1b4",
       "version_major": 2,
       "version_minor": 0
      },
      "text/plain": [
       "Train 18:   0%|          | 0/253 [00:00<?, ?it/s]"
      ]
     },
     "metadata": {},
     "output_type": "display_data"
    },
    {
     "name": "stdout",
     "output_type": "stream",
     "text": [
      "Epoch 18: train 0.0396, val 0.0384\n"
     ]
    },
    {
     "data": {
      "application/vnd.jupyter.widget-view+json": {
       "model_id": "9cd0719c6ac7431a87e231a9340b950e",
       "version_major": 2,
       "version_minor": 0
      },
      "text/plain": [
       "Train 19:   0%|          | 0/253 [00:00<?, ?it/s]"
      ]
     },
     "metadata": {},
     "output_type": "display_data"
    },
    {
     "ename": "KeyboardInterrupt",
     "evalue": "",
     "output_type": "error",
     "traceback": [
      "\u001b[31m---------------------------------------------------------------------------\u001b[39m",
      "\u001b[31mKeyboardInterrupt\u001b[39m                         Traceback (most recent call last)",
      "\u001b[36mCell\u001b[39m\u001b[36m \u001b[39m\u001b[32mIn[8]\u001b[39m\u001b[32m, line 27\u001b[39m\n\u001b[32m     25\u001b[39m model.eval(); vl = \u001b[32m0\u001b[39m\n\u001b[32m     26\u001b[39m \u001b[38;5;28;01mwith\u001b[39;00m torch.no_grad():\n\u001b[32m---> \u001b[39m\u001b[32m27\u001b[39m \u001b[43m    \u001b[49m\u001b[38;5;28;43;01mfor\u001b[39;49;00m\u001b[43m \u001b[49m\u001b[43mxb\u001b[49m\u001b[43m,\u001b[49m\u001b[43m \u001b[49m\u001b[43myb\u001b[49m\u001b[43m \u001b[49m\u001b[38;5;129;43;01min\u001b[39;49;00m\u001b[43m \u001b[49m\u001b[43mvl_dl\u001b[49m\u001b[43m:\u001b[49m\n\u001b[32m     28\u001b[39m \u001b[43m        \u001b[49m\u001b[43mxb\u001b[49m\u001b[43m,\u001b[49m\u001b[43m \u001b[49m\u001b[43myb\u001b[49m\u001b[43m \u001b[49m\u001b[43m=\u001b[49m\u001b[43m \u001b[49m\u001b[43mxb\u001b[49m\u001b[43m.\u001b[49m\u001b[43mto\u001b[49m\u001b[43m(\u001b[49m\u001b[43mDEVICE\u001b[49m\u001b[43m)\u001b[49m\u001b[43m,\u001b[49m\u001b[43m \u001b[49m\u001b[43myb\u001b[49m\u001b[43m.\u001b[49m\u001b[43mto\u001b[49m\u001b[43m(\u001b[49m\u001b[43mDEVICE\u001b[49m\u001b[43m)\u001b[49m\n\u001b[32m     29\u001b[39m \u001b[43m        \u001b[49m\u001b[43mpreds\u001b[49m\u001b[43m \u001b[49m\u001b[43m=\u001b[49m\u001b[43m \u001b[49m\u001b[43mmodel\u001b[49m\u001b[43m(\u001b[49m\u001b[43mxb\u001b[49m\u001b[43m)\u001b[49m\n",
      "\u001b[36mFile \u001b[39m\u001b[32m~/master_of_cv/DIPLOM/repos/venv/lib/python3.11/site-packages/torch/utils/data/dataloader.py:733\u001b[39m, in \u001b[36m_BaseDataLoaderIter.__next__\u001b[39m\u001b[34m(self)\u001b[39m\n\u001b[32m    730\u001b[39m \u001b[38;5;28;01mif\u001b[39;00m \u001b[38;5;28mself\u001b[39m._sampler_iter \u001b[38;5;129;01mis\u001b[39;00m \u001b[38;5;28;01mNone\u001b[39;00m:\n\u001b[32m    731\u001b[39m     \u001b[38;5;66;03m# TODO(https://github.com/pytorch/pytorch/issues/76750)\u001b[39;00m\n\u001b[32m    732\u001b[39m     \u001b[38;5;28mself\u001b[39m._reset()  \u001b[38;5;66;03m# type: ignore[call-arg]\u001b[39;00m\n\u001b[32m--> \u001b[39m\u001b[32m733\u001b[39m data = \u001b[38;5;28;43mself\u001b[39;49m\u001b[43m.\u001b[49m\u001b[43m_next_data\u001b[49m\u001b[43m(\u001b[49m\u001b[43m)\u001b[49m\n\u001b[32m    734\u001b[39m \u001b[38;5;28mself\u001b[39m._num_yielded += \u001b[32m1\u001b[39m\n\u001b[32m    735\u001b[39m \u001b[38;5;28;01mif\u001b[39;00m (\n\u001b[32m    736\u001b[39m     \u001b[38;5;28mself\u001b[39m._dataset_kind == _DatasetKind.Iterable\n\u001b[32m    737\u001b[39m     \u001b[38;5;129;01mand\u001b[39;00m \u001b[38;5;28mself\u001b[39m._IterableDataset_len_called \u001b[38;5;129;01mis\u001b[39;00m \u001b[38;5;129;01mnot\u001b[39;00m \u001b[38;5;28;01mNone\u001b[39;00m\n\u001b[32m    738\u001b[39m     \u001b[38;5;129;01mand\u001b[39;00m \u001b[38;5;28mself\u001b[39m._num_yielded > \u001b[38;5;28mself\u001b[39m._IterableDataset_len_called\n\u001b[32m    739\u001b[39m ):\n",
      "\u001b[36mFile \u001b[39m\u001b[32m~/master_of_cv/DIPLOM/repos/venv/lib/python3.11/site-packages/torch/utils/data/dataloader.py:789\u001b[39m, in \u001b[36m_SingleProcessDataLoaderIter._next_data\u001b[39m\u001b[34m(self)\u001b[39m\n\u001b[32m    787\u001b[39m \u001b[38;5;28;01mdef\u001b[39;00m\u001b[38;5;250m \u001b[39m\u001b[34m_next_data\u001b[39m(\u001b[38;5;28mself\u001b[39m):\n\u001b[32m    788\u001b[39m     index = \u001b[38;5;28mself\u001b[39m._next_index()  \u001b[38;5;66;03m# may raise StopIteration\u001b[39;00m\n\u001b[32m--> \u001b[39m\u001b[32m789\u001b[39m     data = \u001b[38;5;28;43mself\u001b[39;49m\u001b[43m.\u001b[49m\u001b[43m_dataset_fetcher\u001b[49m\u001b[43m.\u001b[49m\u001b[43mfetch\u001b[49m\u001b[43m(\u001b[49m\u001b[43mindex\u001b[49m\u001b[43m)\u001b[49m  \u001b[38;5;66;03m# may raise StopIteration\u001b[39;00m\n\u001b[32m    790\u001b[39m     \u001b[38;5;28;01mif\u001b[39;00m \u001b[38;5;28mself\u001b[39m._pin_memory:\n\u001b[32m    791\u001b[39m         data = _utils.pin_memory.pin_memory(data, \u001b[38;5;28mself\u001b[39m._pin_memory_device)\n",
      "\u001b[36mFile \u001b[39m\u001b[32m~/master_of_cv/DIPLOM/repos/venv/lib/python3.11/site-packages/torch/utils/data/_utils/fetch.py:52\u001b[39m, in \u001b[36m_MapDatasetFetcher.fetch\u001b[39m\u001b[34m(self, possibly_batched_index)\u001b[39m\n\u001b[32m     50\u001b[39m         data = \u001b[38;5;28mself\u001b[39m.dataset.__getitems__(possibly_batched_index)\n\u001b[32m     51\u001b[39m     \u001b[38;5;28;01melse\u001b[39;00m:\n\u001b[32m---> \u001b[39m\u001b[32m52\u001b[39m         data = \u001b[43m[\u001b[49m\u001b[38;5;28;43mself\u001b[39;49m\u001b[43m.\u001b[49m\u001b[43mdataset\u001b[49m\u001b[43m[\u001b[49m\u001b[43midx\u001b[49m\u001b[43m]\u001b[49m\u001b[43m \u001b[49m\u001b[38;5;28;43;01mfor\u001b[39;49;00m\u001b[43m \u001b[49m\u001b[43midx\u001b[49m\u001b[43m \u001b[49m\u001b[38;5;129;43;01min\u001b[39;49;00m\u001b[43m \u001b[49m\u001b[43mpossibly_batched_index\u001b[49m\u001b[43m]\u001b[49m\n\u001b[32m     53\u001b[39m \u001b[38;5;28;01melse\u001b[39;00m:\n\u001b[32m     54\u001b[39m     data = \u001b[38;5;28mself\u001b[39m.dataset[possibly_batched_index]\n",
      "\u001b[36mFile \u001b[39m\u001b[32m~/master_of_cv/DIPLOM/repos/venv/lib/python3.11/site-packages/torch/utils/data/_utils/fetch.py:52\u001b[39m, in \u001b[36m<listcomp>\u001b[39m\u001b[34m(.0)\u001b[39m\n\u001b[32m     50\u001b[39m         data = \u001b[38;5;28mself\u001b[39m.dataset.__getitems__(possibly_batched_index)\n\u001b[32m     51\u001b[39m     \u001b[38;5;28;01melse\u001b[39;00m:\n\u001b[32m---> \u001b[39m\u001b[32m52\u001b[39m         data = [\u001b[38;5;28;43mself\u001b[39;49m\u001b[43m.\u001b[49m\u001b[43mdataset\u001b[49m\u001b[43m[\u001b[49m\u001b[43midx\u001b[49m\u001b[43m]\u001b[49m \u001b[38;5;28;01mfor\u001b[39;00m idx \u001b[38;5;129;01min\u001b[39;00m possibly_batched_index]\n\u001b[32m     53\u001b[39m \u001b[38;5;28;01melse\u001b[39;00m:\n\u001b[32m     54\u001b[39m     data = \u001b[38;5;28mself\u001b[39m.dataset[possibly_batched_index]\n",
      "\u001b[36mCell\u001b[39m\u001b[36m \u001b[39m\u001b[32mIn[6]\u001b[39m\u001b[32m, line 17\u001b[39m, in \u001b[36mW2VDataset.__getitem__\u001b[39m\u001b[34m(self, i)\u001b[39m\n\u001b[32m     15\u001b[39m emb = torch.load(\u001b[38;5;28mself\u001b[39m.paths[i])            \u001b[38;5;66;03m# (T,H)\u001b[39;00m\n\u001b[32m     16\u001b[39m mu  = emb.mean(\u001b[32m0\u001b[39m)\n\u001b[32m---> \u001b[39m\u001b[32m17\u001b[39m sig = \u001b[43memb\u001b[49m\u001b[43m.\u001b[49m\u001b[43mstd\u001b[49m\u001b[43m(\u001b[49m\u001b[32;43m0\u001b[39;49m\u001b[43m)\u001b[49m\n\u001b[32m     18\u001b[39m vec = torch.cat([mu, sig])                 \u001b[38;5;66;03m# (2H,)\u001b[39;00m\n\u001b[32m     19\u001b[39m \u001b[38;5;28;01mreturn\u001b[39;00m vec, torch.tensor(\u001b[38;5;28mself\u001b[39m.labels[i])\n",
      "\u001b[31mKeyboardInterrupt\u001b[39m: "
     ]
    }
   ],
   "source": [
    "criterion = nn.MSELoss()\n",
    "optimiser = torch.optim.AdamW(model.parameters(), lr=LR, weight_decay=1e-2)\n",
    "scheduler = torch.optim.lr_scheduler.ReduceLROnPlateau(optimiser, 'min', factor=0.5, patience=2)\n",
    "scaler = GradScaler()\n",
    "\n",
    "tr_losses, val_losses = [], []\n",
    "best = float('inf'); wait = 0\n",
    "for epoch in range(1, EPOCHS + 1):\n",
    "    # --- train\n",
    "    model.train(); tl = 0\n",
    "    for xb, yb in tqdm(tr_dl, desc=f\"Train {epoch}\"):\n",
    "        xb, yb = xb.to(DEVICE), yb.to(DEVICE)\n",
    "        optimiser.zero_grad()\n",
    "        with autocast():\n",
    "            preds = model(xb)\n",
    "            loss = criterion(preds, yb)\n",
    "        scaler.scale(loss).backward()\n",
    "        scaler.unscale_(optimiser)\n",
    "        torch.nn.utils.clip_grad_norm_(model.parameters(), CLIP_NORM)\n",
    "        scaler.step(optimiser); scaler.update()\n",
    "        tl += loss.item()\n",
    "    tl /= len(tr_dl)\n",
    "\n",
    "    # --- val\n",
    "    model.eval(); vl = 0\n",
    "    with torch.no_grad():\n",
    "        for xb, yb in vl_dl:\n",
    "            xb, yb = xb.to(DEVICE), yb.to(DEVICE)\n",
    "            preds = model(xb)\n",
    "            vl += criterion(preds, yb).item()\n",
    "    vl /= len(vl_dl)\n",
    "\n",
    "    tr_losses.append(tl); val_losses.append(vl)\n",
    "    scheduler.step(vl)\n",
    "    print(f\"Epoch {epoch}: train {tl:.4f}, val {vl:.4f}\")\n",
    "    if vl < best:\n",
    "        best = vl; wait = 0; torch.save(model.state_dict(), 'best_audio_mlp.pth'); print('saved')\n",
    "    else:\n",
    "        wait += 1\n",
    "        if wait >= PATIENCE:\n",
    "            print('early stop'); break"
   ]
  },
  {
   "cell_type": "code",
   "execution_count": 9,
   "id": "c840e408-994c-4766-9259-65eb7dfbb1bd",
   "metadata": {},
   "outputs": [
    {
     "data": {
      "image/png": "[encoded data removed]",
      "text/plain": [
       "<Figure size 640x480 with 1 Axes>"
      ]
     },
     "metadata": {},
     "output_type": "display_data"
    }
   ],
   "source": [
    "plt.plot(tr_losses, label='train'); plt.plot(val_losses, label='val'); plt.legend(); plt.show()"
   ]
  },
  {
   "cell_type": "code",
   "execution_count": null,
   "id": "31277409-e8d3-4d0a-9387-712e4cef30f8",
   "metadata": {},
   "outputs": [],
   "source": []
  },
  {
   "cell_type": "code",
   "execution_count": null,
   "id": "c43f08b3-9371-47a4-97fa-7523f3f26a84",
   "metadata": {},
   "outputs": [],
   "source": []
  }
 ],
 "metadata": {
  "kernelspec": {
   "display_name": "Python 3 (ipykernel)",
   "language": "python",
   "name": "python3"
  },
  "language_info": {
   "codemirror_mode": {
    "name": "ipython",
    "version": 3
   },
   "file_extension": ".py",
   "mimetype": "text/x-python",
   "name": "python",
   "nbconvert_exporter": "python",
   "pygments_lexer": "ipython3",
   "version": "3.11.4"
  }
 },
 "nbformat": 4,
 "nbformat_minor": 5
}
