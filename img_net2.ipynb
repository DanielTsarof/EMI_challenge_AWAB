{
 "cells": [
  {
   "cell_type": "code",
   "execution_count": 18,
   "id": "a866d972-d4dd-4d5f-b6aa-192b26b3d456",
   "metadata": {},
   "outputs": [],
   "source": [
    "from pathlib import Path\n",
    "\n",
    "import random, json, math, time, yaml, collections, shutil\n",
    "import numpy as np\n",
    "import pandas as pd\n",
    "import matplotlib.pyplot as plt\n",
    "from typing import List, Dict, Tuple\n",
    "\n",
    "import torch\n",
    "import torch.nn as nn\n",
    "from torch.utils.data import Dataset, DataLoader\n",
    "import torchvision.transforms as T\n",
    "from PIL import Image\n",
    "from tqdm import tqdm\n",
    "\n",
    "import timm  # SOTA image models"
   ]
  },
  {
   "cell_type": "code",
   "execution_count": 46,
   "id": "5abffdb9-01dd-4cbe-960c-1891719f8b53",
   "metadata": {},
   "outputs": [],
   "source": [
    "DATA_ROOT          = Path(\"/media/dtsarev/SatSSD/data\")\n",
    "FACES_DIR          = DATA_ROOT / \"face_images\"\n",
    "TRAIN_SPLIT_CSV    = DATA_ROOT / \"train_split.csv\"\n",
    "VAL_SPLIT_CSV      = DATA_ROOT / \"valid_split.csv\"\n",
    "\n",
    "BACKBONE_NAME      = \"tf_efficientnet_b0_ns\"   # timm name of the image backbone\n",
    "EMBED_OUT_DIM      = 1280                      # depends on backbone\n",
    "IMG_SIZE           = 224\n",
    "IMG_BATCH_SIZE     = 64                        # batch for forward pass of faces\n",
    "EXTRACT_NUM_WORKERS= 4\n",
    "\n",
    "REGRESSOR_HIDDEN   = 512\n",
    "TRAIN_BATCH_SIZE   = 256\n",
    "NUM_EPOCHS         = 40\n",
    "LEARNING_RATE      = 3e-4\n",
    "WEIGHT_DECAY       = 1e-4\n",
    "EARLY_STOP_PATIENCE= 10\n",
    "SEED               = 42\n",
    "\n",
    "SKIP_MISSING_EMB   = True"
   ]
  },
  {
   "cell_type": "code",
   "execution_count": 47,
   "id": "81b8322e-ae00-44aa-a88c-2cdfbe3a871e",
   "metadata": {},
   "outputs": [],
   "source": [
    "EMOTIONS = [\n",
    "    \"Admiration\", \"Amusement\", \"Determination\",\n",
    "    \"Empathic Pain\", \"Excitement\", \"Joy\"\n",
    "]\n",
    "NUM_CLASSES = len(EMOTIONS)\n",
    "\n",
    "EMBED_CACHE_DIR    = Path(\"cached_embeddings_img\")  # will be created"
   ]
  },
  {
   "cell_type": "code",
   "execution_count": 48,
   "id": "6f971c05-00f1-4a1e-a84c-73a62632eb05",
   "metadata": {},
   "outputs": [
    {
     "name": "stdout",
     "output_type": "stream",
     "text": [
      "Using device: cuda\n"
     ]
    }
   ],
   "source": [
    "torch.manual_seed(SEED)\n",
    "np.random.seed(SEED)\n",
    "random.seed(SEED)\n",
    "\n",
    "device = torch.device(\"cuda\" if torch.cuda.is_available() else \"cpu\")\n",
    "print(f\"Using device: {device}\")"
   ]
  },
  {
   "cell_type": "code",
   "execution_count": 49,
   "id": "d0d14f57-6d52-412e-813d-0556a6be656c",
   "metadata": {},
   "outputs": [],
   "source": [
    "def pearson_corr_torch(preds: torch.Tensor, targets: torch.Tensor) -> torch.Tensor:\n",
    "    \"\"\"Differentiable Pearson correlation averaged over columns.\"\"\"\n",
    "    vx = preds - preds.mean(0)\n",
    "    vy = targets - targets.mean(0)\n",
    "    corr = (vx * vy).sum(0) / (torch.sqrt((vx**2).sum(0) * (vy**2).sum(0)) + 1e-8)\n",
    "    return corr.mean()\n",
    "\n",
    "class PearsonLoss(nn.Module):\n",
    "    def forward(self, preds: torch.Tensor, targets: torch.Tensor) -> torch.Tensor:\n",
    "        return 1.0 - pearson_corr_torch(preds, targets)"
   ]
  },
  {
   "cell_type": "code",
   "execution_count": 50,
   "id": "7ead88ce-d549-44f2-9613-29f90a84ce3f",
   "metadata": {},
   "outputs": [],
   "source": [
    "transform = T.Compose([\n",
    "    T.Resize((IMG_SIZE, IMG_SIZE)),\n",
    "    T.ToTensor(),\n",
    "    T.Normalize(mean=[0.485,0.456,0.406], std=[0.229,0.224,0.225])\n",
    "])\n",
    "\n",
    "@torch.no_grad()\n",
    "def extract_embeddings_for_video(video_dir: Path, model: nn.Module) -> np.ndarray:\n",
    "    \"\"\"Return mean embedding for all .jpg files inside *video_dir*.\"\"\"\n",
    "    model.eval()\n",
    "    imgs = sorted(video_dir.glob(\"*.jpg\"))\n",
    "    if len(imgs) == 0:\n",
    "        raise RuntimeError(f\"No .jpg files in {video_dir}\")\n",
    "    loader = DataLoader(imgs, batch_size=IMG_BATCH_SIZE, num_workers=EXTRACT_NUM_WORKERS,\n",
    "                        collate_fn=lambda batch: [transform(Image.open(p).convert(\"RGB\")) for p in batch])\n",
    "    feats = []\n",
    "    for batch in loader:\n",
    "        batch = torch.stack(batch).to(device, non_blocking=True)\n",
    "        emb = model(batch)\n",
    "        feats.append(emb.cpu())\n",
    "    feats = torch.cat(feats, 0)\n",
    "    return feats.mean(0).numpy()"
   ]
  },
  {
   "cell_type": "code",
   "execution_count": 51,
   "id": "66a7bdfb-2b9a-4c8c-8827-5f6a35389274",
   "metadata": {},
   "outputs": [
    {
     "name": "stderr",
     "output_type": "stream",
     "text": [
      "/home/dtsarev/master_of_cv/DIPLOM/repos/venv/lib/python3.10/site-packages/timm/models/_factory.py:126: UserWarning: Mapping deprecated model name tf_efficientnet_b0_ns to current tf_efficientnet_b0.ns_jft_in1k.\n",
      "  model = create_fn(\n"
     ]
    }
   ],
   "source": [
    "backbone = timm.create_model(BACKBONE_NAME, pretrained=True, num_classes=0)  # feature extractor\n",
    "backbone.to(device)\n",
    "\n",
    "EMBED_CACHE_DIR.mkdir(exist_ok=True)"
   ]
  },
  {
   "cell_type": "code",
   "execution_count": 52,
   "id": "485b7e96-5911-41a3-803f-14bd9833a207",
   "metadata": {
    "scrolled": true
   },
   "outputs": [],
   "source": [
    "def build_embedding_cache(force: bool=False):\n",
    "    \"\"\"Compute and store mean embeddings as .npy; skip if cached.\"\"\"\n",
    "    for video_dir in tqdm(sorted(FACES_DIR.iterdir())):\n",
    "        if not video_dir.is_dir():\n",
    "            continue\n",
    "        out_file = EMBED_CACHE_DIR / f\"{video_dir.name}.npy\"\n",
    "        if out_file.exists() and not force:\n",
    "            continue\n",
    "        try:\n",
    "            emb = extract_embeddings_for_video(video_dir, backbone)\n",
    "            np.save(out_file, emb)\n",
    "        except Exception as e:\n",
    "            print(f\"✗ Failed {video_dir}: {e}\")\n",
    "    print(\"✔ Finished embedding cache generation\")\n",
    "\n",
    "# Uncomment to (re)build\n",
    "#build_embedding_cache()"
   ]
  },
  {
   "cell_type": "code",
   "execution_count": 53,
   "id": "05d8758a-26e0-4448-ad8b-fe4ec312692a",
   "metadata": {},
   "outputs": [],
   "source": [
    "class VideoEmbeddingDataset(Dataset):\n",
    "    def __init__(self, csv_path: Path, skip_missing: bool = SKIP_MISSING_EMB):\n",
    "        df = pd.read_csv(csv_path, dtype={\"Filename\": str})\n",
    "        raw_ids     = df[\"Filename\"].tolist()\n",
    "        raw_targets = df[EMOTIONS].values.astype(np.float32)\n",
    "\n",
    "        ids, targets = [], []\n",
    "        for vid, tgt in zip(raw_ids, raw_targets):\n",
    "            if (EMBED_CACHE_DIR / f\"{vid}.npy\").exists():\n",
    "                ids.append(vid)\n",
    "                targets.append(tgt)\n",
    "            elif not skip_missing:\n",
    "                raise FileNotFoundError(f\"Missing embedding for {vid}. Run build_embedding_cache().\")\n",
    "            # else silently drop\n",
    "        if len(ids) == 0:\n",
    "            raise RuntimeError(\"Dataset is empty after skipping missing embeddings.\")\n",
    "        self.ids      = ids\n",
    "        self.targets  = np.stack(targets)\n",
    "    def __len__(self):\n",
    "        return len(self.ids)\n",
    "    def __getitem__(self, idx):\n",
    "        vid = self.ids[idx]\n",
    "        emb = np.load(EMBED_CACHE_DIR / f\"{vid}.npy\")\n",
    "        return torch.from_numpy(emb).float(), torch.from_numpy(self.targets[idx])\n",
    "\n",
    "def make_loaders():\n",
    "    train_ds = VideoEmbeddingDataset(TRAIN_SPLIT_CSV)\n",
    "    val_ds   = VideoEmbeddingDataset(VAL_SPLIT_CSV)\n",
    "    train_loader = DataLoader(train_ds, batch_size=TRAIN_BATCH_SIZE, shuffle=True, drop_last=True)\n",
    "    val_loader   = DataLoader(val_ds,   batch_size=TRAIN_BATCH_SIZE, shuffle=False)\n",
    "    return train_loader, val_loader"
   ]
  },
  {
   "cell_type": "code",
   "execution_count": 54,
   "id": "1221e0ac-21d4-4f8f-b99f-c572ad575004",
   "metadata": {},
   "outputs": [],
   "source": [
    "class Regressor(nn.Module):\n",
    "    def __init__(self, in_features:int=EMBED_OUT_DIM):\n",
    "        super().__init__()\n",
    "        self.net = nn.Sequential(\n",
    "            nn.Linear(in_features, REGRESSOR_HIDDEN),\n",
    "            nn.ReLU(inplace=True),\n",
    "            nn.Dropout(0.3),\n",
    "            nn.Linear(REGRESSOR_HIDDEN, NUM_CLASSES),\n",
    "            nn.Sigmoid()  # outputs in [0,1]\n",
    "        )\n",
    "    def forward(self, x):\n",
    "        return self.net(x)"
   ]
  },
  {
   "cell_type": "code",
   "execution_count": 55,
   "id": "e653dc74-2986-476e-92ab-df06b60db7b1",
   "metadata": {},
   "outputs": [],
   "source": [
    "def train_epoch(model, loader, optimizer, criterion):\n",
    "    model.train()\n",
    "    epoch_loss, epoch_metric, n = 0.0, 0.0, 0\n",
    "    for x, y in loader:\n",
    "        x, y = x.to(device), y.to(device)\n",
    "        optimizer.zero_grad()\n",
    "        preds = model(x)\n",
    "        loss  = criterion(preds, y)\n",
    "        loss.backward()\n",
    "        optimizer.step()\n",
    "        with torch.no_grad():\n",
    "            metric = pearson_corr_torch(preds, y)\n",
    "        bs = x.size(0)\n",
    "        epoch_loss   += loss.item() * bs\n",
    "        epoch_metric += metric.item() * bs\n",
    "        n += bs\n",
    "    return epoch_loss / n, epoch_metric / n\n",
    "\n",
    "def eval_epoch(model, loader, criterion):\n",
    "    model.eval()\n",
    "    epoch_loss, epoch_metric, n = 0.0, 0.0, 0\n",
    "    with torch.no_grad():\n",
    "        for x, y in loader:\n",
    "            x, y = x.to(device), y.to(device)\n",
    "            preds = model(x)\n",
    "            loss  = criterion(preds, y)\n",
    "            metric = pearson_corr_torch(preds, y)\n",
    "            bs = x.size(0)\n",
    "            epoch_loss   += loss.item() * bs\n",
    "            epoch_metric += metric.item() * bs\n",
    "            n += bs\n",
    "    return epoch_loss / n, epoch_metric / n"
   ]
  },
  {
   "cell_type": "code",
   "execution_count": 56,
   "id": "71e5ec35-7834-4153-b25b-82da35a325ce",
   "metadata": {},
   "outputs": [],
   "source": [
    "def train():\n",
    "    train_loader, val_loader = make_loaders()\n",
    "    model     = Regressor().to(device)\n",
    "    criterion = PearsonLoss()\n",
    "    optim     = torch.optim.AdamW(model.parameters(), lr=LEARNING_RATE, weight_decay=WEIGHT_DECAY)\n",
    "    scheduler = torch.optim.lr_scheduler.ReduceLROnPlateau(optim, factor=0.5, patience=5)\n",
    "\n",
    "    history = {\"train_loss\":[], \"val_loss\":[], \"train_r\":[], \"val_r\":[]}\n",
    "    best_val_r, patience = -1e9, 0\n",
    "\n",
    "    for epoch in range(1, NUM_EPOCHS+1):\n",
    "        t_loss, t_r = train_epoch(model, train_loader, optim, criterion)\n",
    "        v_loss, v_r = eval_epoch(model, val_loader,   criterion)\n",
    "        scheduler.step(v_loss)\n",
    "\n",
    "        history[\"train_loss\"].append(t_loss)\n",
    "        history[\"val_loss\"].append(v_loss)\n",
    "        history[\"train_r\"].append(t_r)\n",
    "        history[\"val_r\"].append(v_r)\n",
    "\n",
    "        print(f\"Epoch {epoch:02d}/{NUM_EPOCHS} | \"\n",
    "              f\"train: loss {t_loss:.4f}  r {t_r:.4f} | \"\n",
    "              f\"val: loss {v_loss:.4f}  r {v_r:.4f}\")\n",
    "\n",
    "        # Early stopping ----------------------------------------------------\n",
    "        if v_r > best_val_r + 1e-4:\n",
    "            best_val_r = v_r\n",
    "            best_state = {k:v.cpu().clone() for k,v in model.state_dict().items()}\n",
    "            patience = 0\n",
    "        else:\n",
    "            patience += 1\n",
    "            if patience >= EARLY_STOP_PATIENCE:\n",
    "                print(\"Early stop\")\n",
    "                break\n",
    "\n",
    "    model.load_state_dict(best_state)\n",
    "    return model, history, val_loader"
   ]
  },
  {
   "cell_type": "code",
   "execution_count": 57,
   "id": "da83379f-4050-4672-8a9a-016671d5c570",
   "metadata": {},
   "outputs": [],
   "source": [
    "def plot_history(history: Dict[str, List[float]]):\n",
    "    plt.figure(figsize=(12,4))\n",
    "    plt.subplot(1,2,1)\n",
    "    plt.plot(history[\"train_loss\"], label=\"train\")\n",
    "    plt.plot(history[\"val_loss\"],   label=\"val\")\n",
    "    plt.title(\"Loss (1 - Pearson)\")\n",
    "    plt.xlabel(\"epoch\"); plt.legend()\n",
    "\n",
    "    plt.subplot(1,2,2)\n",
    "    plt.plot(history[\"train_r\"], label=\"train\")\n",
    "    plt.plot(history[\"val_r\"],   label=\"val\")\n",
    "    plt.title(\"Mean Pearson R\")\n",
    "    plt.xlabel(\"epoch\"); plt.legend()\n",
    "    plt.tight_layout(); plt.show()"
   ]
  },
  {
   "cell_type": "code",
   "execution_count": 58,
   "id": "1acf32ad-49f0-495b-8662-239657689f83",
   "metadata": {},
   "outputs": [],
   "source": [
    "def per_emotion_r(model:nn.Module, loader):\n",
    "    model.eval()\n",
    "    all_preds, all_targets = [], []\n",
    "    with torch.no_grad():\n",
    "        for x, y in loader:\n",
    "            x, y = x.to(device), y.to(device)\n",
    "            preds = model(x)\n",
    "            all_preds.append(preds.cpu())\n",
    "            all_targets.append(y.cpu())\n",
    "    preds   = torch.cat(all_preds)\n",
    "    targets = torch.cat(all_targets)\n",
    "    vx = preds - preds.mean(0)\n",
    "    vy = targets - targets.mean(0)\n",
    "    corr = (vx * vy).sum(0) / (torch.sqrt((vx**2).sum(0) * (vy**2).sum(0)) + 1e-8)\n",
    "    return corr.numpy()"
   ]
  },
  {
   "cell_type": "code",
   "execution_count": 59,
   "id": "29f88a92-d2c5-4a10-aff1-b85962f74934",
   "metadata": {},
   "outputs": [
    {
     "name": "stdout",
     "output_type": "stream",
     "text": [
      "Epoch 01/40 | train: loss 0.9592  r 0.0408 | val: loss 0.9710  r 0.0290\n",
      "Epoch 02/40 | train: loss 0.8982  r 0.1018 | val: loss 0.9575  r 0.0425\n",
      "Epoch 03/40 | train: loss 0.8567  r 0.1433 | val: loss 0.9542  r 0.0458\n",
      "Epoch 04/40 | train: loss 0.8186  r 0.1814 | val: loss 0.9450  r 0.0550\n",
      "Epoch 05/40 | train: loss 0.7879  r 0.2121 | val: loss 0.9393  r 0.0607\n",
      "Epoch 06/40 | train: loss 0.7656  r 0.2344 | val: loss 0.9344  r 0.0656\n",
      "Epoch 07/40 | train: loss 0.7320  r 0.2680 | val: loss 0.9334  r 0.0666\n",
      "Epoch 08/40 | train: loss 0.7156  r 0.2844 | val: loss 0.9319  r 0.0681\n",
      "Epoch 09/40 | train: loss 0.6929  r 0.3071 | val: loss 0.9343  r 0.0657\n",
      "Epoch 10/40 | train: loss 0.6726  r 0.3274 | val: loss 0.9285  r 0.0715\n",
      "Epoch 11/40 | train: loss 0.6583  r 0.3417 | val: loss 0.9288  r 0.0712\n",
      "Epoch 12/40 | train: loss 0.6395  r 0.3605 | val: loss 0.9290  r 0.0710\n",
      "Epoch 13/40 | train: loss 0.6280  r 0.3720 | val: loss 0.9285  r 0.0715\n",
      "Epoch 14/40 | train: loss 0.6139  r 0.3861 | val: loss 0.9309  r 0.0691\n",
      "Epoch 15/40 | train: loss 0.6057  r 0.3943 | val: loss 0.9342  r 0.0658\n",
      "Epoch 16/40 | train: loss 0.5930  r 0.4070 | val: loss 0.9373  r 0.0627\n",
      "Epoch 17/40 | train: loss 0.5555  r 0.4445 | val: loss 0.9276  r 0.0724\n",
      "Epoch 18/40 | train: loss 0.5341  r 0.4659 | val: loss 0.9328  r 0.0672\n",
      "Epoch 19/40 | train: loss 0.5228  r 0.4772 | val: loss 0.9281  r 0.0719\n",
      "Epoch 20/40 | train: loss 0.5104  r 0.4896 | val: loss 0.9328  r 0.0672\n",
      "Epoch 21/40 | train: loss 0.5055  r 0.4945 | val: loss 0.9307  r 0.0693\n",
      "Epoch 22/40 | train: loss 0.4924  r 0.5076 | val: loss 0.9311  r 0.0689\n",
      "Epoch 23/40 | train: loss 0.4823  r 0.5177 | val: loss 0.9336  r 0.0664\n",
      "Epoch 24/40 | train: loss 0.4648  r 0.5352 | val: loss 0.9323  r 0.0677\n",
      "Epoch 25/40 | train: loss 0.4504  r 0.5496 | val: loss 0.9306  r 0.0694\n",
      "Epoch 26/40 | train: loss 0.4483  r 0.5517 | val: loss 0.9297  r 0.0703\n",
      "Epoch 27/40 | train: loss 0.4388  r 0.5612 | val: loss 0.9339  r 0.0661\n",
      "Early stop\n"
     ]
    }
   ],
   "source": [
    "model, hist, val_loader = train()"
   ]
  },
  {
   "cell_type": "code",
   "execution_count": 60,
   "id": "796b7a2b-c7c5-4b39-b168-ee04e0e5c86b",
   "metadata": {},
   "outputs": [
    {
     "data": {
      "image/png": "[encoded data removed]",
      "text/plain": [
       "<Figure size 1200x400 with 2 Axes>"
      ]
     },
     "metadata": {},
     "output_type": "display_data"
    }
   ],
   "source": [
    "plot_history(hist)"
   ]
  },
  {
   "cell_type": "code",
   "execution_count": 63,
   "id": "43b07825-d3d4-4505-baed-82c312bde4da",
   "metadata": {},
   "outputs": [
    {
     "name": "stdout",
     "output_type": "stream",
     "text": [
      "Admiration      Pearson r: 0.0019\n",
      "Amusement       Pearson r: 0.0863\n",
      "Determination   Pearson r: 0.0502\n",
      "Empathic Pain   Pearson r: 0.0941\n",
      "Excitement      Pearson r: 0.0842\n",
      "Joy             Pearson r: 0.1171\n",
      "Mean r: 0.07228697\n"
     ]
    }
   ],
   "source": [
    "class_r = per_emotion_r(model, val_loader)\n",
    "for emo, r in zip(EMOTIONS, class_r):\n",
    "    print(f\"{emo:<15} Pearson r: {r:.4f}\")\n",
    "print(\"Mean r:\", class_r.mean())"
   ]
  },
  {
   "cell_type": "code",
   "execution_count": 62,
   "id": "7e41b952-494f-4e0c-85c0-2cf8898243da",
   "metadata": {},
   "outputs": [],
   "source": [
    "torch.save({\"state_dict\": model.state_dict(),\n",
    "            \"backbone\": BACKBONE_NAME,\n",
    "            \"img_size\": IMG_SIZE}, DATA_ROOT/\"emotion_regressor.pth\")"
   ]
  },
  {
   "cell_type": "code",
   "execution_count": null,
   "id": "e4747aef-8db4-4613-8858-f445bc6693c4",
   "metadata": {},
   "outputs": [],
   "source": []
  }
 ],
 "metadata": {
  "kernelspec": {
   "display_name": "Python 3 (ipykernel)",
   "language": "python",
   "name": "python3"
  },
  "language_info": {
   "codemirror_mode": {
    "name": "ipython",
    "version": 3
   },
   "file_extension": ".py",
   "mimetype": "text/x-python",
   "name": "python",
   "nbconvert_exporter": "python",
   "pygments_lexer": "ipython3",
   "version": "3.10.12"
  }
 },
 "nbformat": 4,
 "nbformat_minor": 5
}
