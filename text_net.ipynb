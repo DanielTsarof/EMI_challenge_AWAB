{
 "cells": [
  {
   "cell_type": "code",
   "execution_count": 1,
   "id": "57e98d00-c4aa-4ef8-a694-6985f688258f",
   "metadata": {},
   "outputs": [],
   "source": [
    "import os\n",
    "import glob\n",
    "import numpy as np\n",
    "import pandas as pd\n",
    "import torch\n",
    "import torch.nn as nn\n",
    "from torch.utils.data import Dataset, DataLoader\n",
    "from transformers import AutoTokenizer, AutoModel\n",
    "from sklearn.model_selection import train_test_split\n",
    "import matplotlib.pyplot as plt"
   ]
  },
  {
   "cell_type": "code",
   "execution_count": 2,
   "id": "78c83c2d-f5f6-4c5a-a72f-b40d45e60225",
   "metadata": {},
   "outputs": [
    {
     "name": "stdout",
     "output_type": "stream",
     "text": [
      "Using device: cuda\n"
     ]
    }
   ],
   "source": [
    "device = torch.device(\"cuda\" if torch.cuda.is_available() else \"cpu\")\n",
    "print(f\"Using device: {device}\")"
   ]
  },
  {
   "cell_type": "code",
   "execution_count": 19,
   "id": "cabbcc8c-48ca-4f66-9bcf-58a4b1354b47",
   "metadata": {},
   "outputs": [],
   "source": [
    "DATA_DIR = \"/media/dtsarev/SatSSD/data\"\n",
    "TEXT_DIR = os.path.join(DATA_DIR, \"text\")\n",
    "TRAIN_CSV = os.path.join(DATA_DIR, \"train_split.csv\")\n",
    "VAL_CSV = os.path.join(DATA_DIR, \"valid_split.csv\")\n",
    "EMB_DIR = \"./text_embeddings_roberta\"\n",
    "MODEL_DIR = \"./models\"\n",
    "\n",
    "TOKENIZER = \"roberta-base\"\n",
    "MODEL = \"roberta-base\"\n",
    "\n",
    "os.makedirs(EMB_DIR, exist_ok=True)"
   ]
  },
  {
   "cell_type": "code",
   "execution_count": 4,
   "id": "c3a9cf01-6533-4867-bd1c-412612a2dd8c",
   "metadata": {},
   "outputs": [],
   "source": [
    "df_train = pd.read_csv(TRAIN_CSV, dtype={'Filename': str})\n",
    "df_val = pd.read_csv(VAL_CSV, dtype={'Filename': str})\n",
    "# Ensure each Filename has width 5 with leading zeros\n",
    "df_train['Filename'] = df_train['Filename'].str.zfill(5)\n",
    "df_val['Filename']   = df_val['Filename'].str.zfill(5)"
   ]
  },
  {
   "cell_type": "code",
   "execution_count": 5,
   "id": "bc39347b-4e23-4b3c-9213-589799fcf013",
   "metadata": {},
   "outputs": [],
   "source": [
    "def extract_and_save_embeddings(filenames, tokenizer, model, text_dir, emb_dir, max_length=128):\n",
    "    \"\"\"\n",
    "    Extracts CLS token embeddings from a pretrained transformer model and saves them as .npy files.\n",
    "    Skips empty files by saving a zero-vector embedding.\n",
    "    \"\"\"\n",
    "    hidden_size = model.config.hidden_size\n",
    "    zero_embedding = np.zeros(hidden_size, dtype=np.float32)\n",
    "    model.eval()\n",
    "\n",
    "    for fname in filenames:\n",
    "        out_path = os.path.join(emb_dir, f\"{fname}.npy\")\n",
    "        if os.path.exists(out_path):\n",
    "            continue  # skip if embedding already exists\n",
    "\n",
    "        file_path = os.path.join(text_dir, f\"{fname}.txt\")\n",
    "        try:\n",
    "            with open(file_path, 'r', encoding='utf-8') as f:\n",
    "                text = f.read().strip()\n",
    "        except FileNotFoundError:\n",
    "            print(f\"Warning: {file_path} not found. Using zero embedding.\")\n",
    "            np.save(out_path, zero_embedding)\n",
    "            continue\n",
    "\n",
    "        if len(text) == 0:\n",
    "            # Handle empty file\n",
    "            np.save(out_path, zero_embedding)\n",
    "            continue\n",
    "\n",
    "        # Tokenize and prepare input tensors\n",
    "        inputs = tokenizer(text, truncation=True, padding='max_length', max_length=max_length, return_tensors='pt')\n",
    "        inputs = {k: v.to(device) for k, v in inputs.items()}\n",
    "\n",
    "        # Forward pass to get hidden states\n",
    "        with torch.no_grad():\n",
    "            outputs = model(**inputs)\n",
    "            # Use the [CLS] token embedding (position 0)\n",
    "            cls_emb = outputs.last_hidden_state[:, 0, :].squeeze(0).cpu().numpy()\n",
    "\n",
    "        np.save(out_path, cls_emb)\n",
    "    print(\"Embedding extraction complete.\")"
   ]
  },
  {
   "cell_type": "code",
   "execution_count": 20,
   "id": "f0ec67d4-984c-4ccb-9b41-809840f574bb",
   "metadata": {},
   "outputs": [
    {
     "name": "stderr",
     "output_type": "stream",
     "text": [
      "Some weights of RobertaModel were not initialized from the model checkpoint at roberta-base and are newly initialized: ['pooler.dense.bias', 'pooler.dense.weight']\n",
      "You should probably TRAIN this model on a down-stream task to be able to use it for predictions and inference.\n"
     ]
    }
   ],
   "source": [
    "tokenizer = AutoTokenizer.from_pretrained(TOKENIZER)\n",
    "model = AutoModel.from_pretrained(MODEL).to(device)"
   ]
  },
  {
   "cell_type": "code",
   "execution_count": 7,
   "id": "1caf507a-fa97-4aa5-9eff-662076fb54f4",
   "metadata": {},
   "outputs": [
    {
     "name": "stdout",
     "output_type": "stream",
     "text": [
      "Embedding extraction complete.\n",
      "Embedding extraction complete.\n"
     ]
    }
   ],
   "source": [
    "train_files = df_train['Filename'].astype(str).tolist()\n",
    "val_files = df_val['Filename'].astype(str).tolist()\n",
    "extract_and_save_embeddings(train_files, tokenizer, model, TEXT_DIR, EMB_DIR)\n",
    "extract_and_save_embeddings(val_files, tokenizer, model, TEXT_DIR, EMB_DIR)"
   ]
  },
  {
   "cell_type": "code",
   "execution_count": 21,
   "id": "a592824f-3c61-4b91-8d85-d33177f6e79b",
   "metadata": {},
   "outputs": [],
   "source": [
    "class EmbeddingDataset(Dataset):\n",
    "    def __init__(self, df, emb_dir):\n",
    "        self.df = df.reset_index(drop=True)\n",
    "        self.emb_dir = emb_dir\n",
    "        self.targets = df[['Admiration', 'Amusement', 'Determination', 'Empathic Pain', 'Excitement', 'Joy']].values.astype(np.float32)\n",
    "\n",
    "    def __len__(self):\n",
    "        return len(self.df)\n",
    "\n",
    "    def __getitem__(self, idx):\n",
    "        row = self.df.iloc[idx]\n",
    "        fname = row['Filename']\n",
    "        emb_path = os.path.join(self.emb_dir, f\"{fname}.npy\")\n",
    "        emb = np.load(emb_path)\n",
    "        emb_tensor = torch.from_numpy(emb)\n",
    "        target = torch.from_numpy(self.targets[idx])\n",
    "        return emb_tensor, target"
   ]
  },
  {
   "cell_type": "code",
   "execution_count": 22,
   "id": "7f2bd88c-75c0-40e4-ad32-0224820df963",
   "metadata": {},
   "outputs": [],
   "source": [
    "batch_size = 32\n",
    "train_dataset = EmbeddingDataset(df_train, EMB_DIR)\n",
    "val_dataset   = EmbeddingDataset(df_val,   EMB_DIR)\n",
    "train_loader  = DataLoader(train_dataset, batch_size=batch_size, shuffle=True)\n",
    "val_loader    = DataLoader(val_dataset,   batch_size=batch_size, shuffle=False)"
   ]
  },
  {
   "cell_type": "code",
   "execution_count": 23,
   "id": "0a3f2ff7-9337-4dd3-a431-3336ec8fced3",
   "metadata": {},
   "outputs": [],
   "source": [
    "class EmotionRegressor(nn.Module):\n",
    "    def __init__(self, input_dim, hidden_dim=256, dropout=0.3):\n",
    "        super(EmotionRegressor, self).__init__()\n",
    "        self.model = nn.Sequential(\n",
    "            nn.Linear(input_dim, hidden_dim),\n",
    "            nn.ReLU(),\n",
    "            nn.Dropout(dropout),\n",
    "            nn.Linear(hidden_dim, hidden_dim//2),\n",
    "            nn.ReLU(),\n",
    "            nn.Dropout(dropout),\n",
    "            nn.Linear(hidden_dim//2, 6)  # 6 emotion outputs\n",
    "        )\n",
    "\n",
    "    def forward(self, x):\n",
    "        return self.model(x)"
   ]
  },
  {
   "cell_type": "code",
   "execution_count": 24,
   "id": "9736187f-cd4b-49ca-8014-9adb26a9925e",
   "metadata": {},
   "outputs": [],
   "source": [
    "# Instantiate model, loss, optimizer\n",
    "input_size = model.config.hidden_size\n",
    "regressor = EmotionRegressor(input_size).to(device)\n",
    "criterion = nn.MSELoss()\n",
    "optimizer = torch.optim.Adam(regressor.parameters(), lr=1e-4)\n",
    "scheduler = torch.optim.lr_scheduler.ReduceLROnPlateau(\n",
    "    optimizer, mode='min', factor=0.5, patience=2\n",
    ")"
   ]
  },
  {
   "cell_type": "code",
   "execution_count": 25,
   "id": "64452d3b-217c-4741-9485-a74ca94e4e18",
   "metadata": {},
   "outputs": [],
   "source": [
    "# Pearson correlation metric\n",
    "def pearson_corr(preds, targets):\n",
    "    preds = preds.detach().cpu()\n",
    "    targets = targets.detach().cpu()\n",
    "    vx = preds - preds.mean(0)\n",
    "    vy = targets - targets.mean(0)\n",
    "    corr = (vx * vy).sum(0) / (torch.sqrt((vx**2).sum(0) * (vy**2).sum(0)) + 1e-8)\n",
    "    return corr.mean().item()"
   ]
  },
  {
   "cell_type": "code",
   "execution_count": 26,
   "id": "41a3f435-d245-49db-9c93-6dafb112a9ac",
   "metadata": {},
   "outputs": [],
   "source": [
    "def train_eval(model, train_loader, val_loader, epochs=50, patience=5):\n",
    "    history = {'train_loss': [], 'val_loss': [], 'train_corr': [], 'val_corr': []}\n",
    "    best_loss = float('inf')\n",
    "    no_improve = 0\n",
    "    best_model_path = os.path.join(MODEL_DIR, 'best_model.pt')\n",
    "\n",
    "    for epoch in range(1, epochs+1):\n",
    "        # Training phase\n",
    "        model.train()\n",
    "        running_loss, running_corr = 0.0, 0.0\n",
    "        for embeddings, targets in train_loader:\n",
    "            embeddings, targets = embeddings.to(device), targets.to(device)\n",
    "            optimizer.zero_grad()\n",
    "            outputs = model(embeddings)\n",
    "            loss = criterion(outputs, targets)\n",
    "            loss.backward()\n",
    "            optimizer.step()\n",
    "            running_loss += loss.item() * embeddings.size(0)\n",
    "            running_corr += pearson_corr(outputs, targets) * embeddings.size(0)\n",
    "\n",
    "        epoch_train_loss = running_loss / len(train_loader.dataset)\n",
    "        epoch_train_corr = running_corr / len(train_loader.dataset)\n",
    "\n",
    "        # Validation phase\n",
    "        model.eval()\n",
    "        val_loss, val_corr = 0.0, 0.0\n",
    "        with torch.no_grad():\n",
    "            for embeddings, targets in val_loader:\n",
    "                embeddings, targets = embeddings.to(device), targets.to(device)\n",
    "                outputs = model(embeddings)\n",
    "                loss = criterion(outputs, targets)\n",
    "                val_loss += loss.item() * embeddings.size(0)\n",
    "                val_corr += pearson_corr(outputs, targets) * embeddings.size(0)\n",
    "\n",
    "        epoch_val_loss = val_loss / len(val_loader.dataset)\n",
    "        epoch_val_corr = val_corr / len(val_loader.dataset)\n",
    "\n",
    "        # Scheduler step on validation loss\n",
    "        scheduler.step(epoch_val_loss)\n",
    "\n",
    "        # Early stopping and model saving\n",
    "        if epoch_val_loss < best_loss:\n",
    "            best_loss = epoch_val_loss\n",
    "            no_improve = 0\n",
    "            torch.save(model.state_dict(), best_model_path)\n",
    "            print(f\"--> New best model saved at epoch {epoch}\")\n",
    "        else:\n",
    "            no_improve += 1\n",
    "            if no_improve >= patience:\n",
    "                print(f\"Stopping early at epoch {epoch} after {patience} epochs with no improvement.\")\n",
    "                break\n",
    "\n",
    "        history['train_loss'].append(epoch_train_loss)\n",
    "        history['val_loss'].append(epoch_val_loss)\n",
    "        history['train_corr'].append(epoch_train_corr)\n",
    "        history['val_corr'].append(epoch_val_corr)\n",
    "\n",
    "        # Logging per epoch\n",
    "        current_lr = optimizer.param_groups[0]['lr']\n",
    "        print(f\"Epoch {epoch}/{epochs}\"\n",
    "              f\" | Train Loss: {epoch_train_loss:.4f}, Train Corr: {epoch_train_corr:.4f}\"\n",
    "              f\" | Val Loss: {epoch_val_loss:.4f}, Val Corr: {epoch_val_corr:.4f}\"\n",
    "              f\" | LR: {current_lr:.2e}\")\n",
    "\n",
    "    return history"
   ]
  },
  {
   "cell_type": "code",
   "execution_count": 27,
   "id": "ccb48a97-6b18-4d33-82a8-51a910d66a07",
   "metadata": {
    "scrolled": true
   },
   "outputs": [
    {
     "name": "stdout",
     "output_type": "stream",
     "text": [
      "--> New best model saved at epoch 1\n",
      "Epoch 1/100 | Train Loss: 0.0451, Train Corr: 0.0070 | Val Loss: 0.0379, Val Corr: 0.0991 | LR: 1.00e-04\n",
      "--> New best model saved at epoch 2\n",
      "Epoch 2/100 | Train Loss: 0.0429, Train Corr: 0.0275 | Val Loss: 0.0374, Val Corr: 0.1564 | LR: 1.00e-04\n",
      "--> New best model saved at epoch 3\n",
      "Epoch 3/100 | Train Loss: 0.0421, Train Corr: 0.0582 | Val Loss: 0.0369, Val Corr: 0.2133 | LR: 1.00e-04\n",
      "--> New best model saved at epoch 4\n",
      "Epoch 4/100 | Train Loss: 0.0412, Train Corr: 0.1172 | Val Loss: 0.0363, Val Corr: 0.2413 | LR: 1.00e-04\n",
      "--> New best model saved at epoch 5\n",
      "Epoch 5/100 | Train Loss: 0.0402, Train Corr: 0.1722 | Val Loss: 0.0355, Val Corr: 0.2601 | LR: 1.00e-04\n",
      "--> New best model saved at epoch 6\n",
      "Epoch 6/100 | Train Loss: 0.0394, Train Corr: 0.2162 | Val Loss: 0.0351, Val Corr: 0.2704 | LR: 1.00e-04\n",
      "--> New best model saved at epoch 7\n",
      "Epoch 7/100 | Train Loss: 0.0386, Train Corr: 0.2466 | Val Loss: 0.0350, Val Corr: 0.2827 | LR: 1.00e-04\n",
      "--> New best model saved at epoch 8\n",
      "Epoch 8/100 | Train Loss: 0.0381, Train Corr: 0.2730 | Val Loss: 0.0344, Val Corr: 0.2878 | LR: 1.00e-04\n",
      "--> New best model saved at epoch 9\n",
      "Epoch 9/100 | Train Loss: 0.0378, Train Corr: 0.2824 | Val Loss: 0.0343, Val Corr: 0.2916 | LR: 1.00e-04\n",
      "--> New best model saved at epoch 10\n",
      "Epoch 10/100 | Train Loss: 0.0373, Train Corr: 0.2975 | Val Loss: 0.0343, Val Corr: 0.2974 | LR: 1.00e-04\n",
      "--> New best model saved at epoch 11\n",
      "Epoch 11/100 | Train Loss: 0.0373, Train Corr: 0.3057 | Val Loss: 0.0338, Val Corr: 0.3016 | LR: 1.00e-04\n",
      "Epoch 12/100 | Train Loss: 0.0368, Train Corr: 0.3172 | Val Loss: 0.0341, Val Corr: 0.3024 | LR: 1.00e-04\n",
      "--> New best model saved at epoch 13\n",
      "Epoch 13/100 | Train Loss: 0.0367, Train Corr: 0.3242 | Val Loss: 0.0337, Val Corr: 0.3075 | LR: 1.00e-04\n",
      "--> New best model saved at epoch 14\n",
      "Epoch 14/100 | Train Loss: 0.0364, Train Corr: 0.3370 | Val Loss: 0.0335, Val Corr: 0.3112 | LR: 1.00e-04\n",
      "Epoch 15/100 | Train Loss: 0.0362, Train Corr: 0.3443 | Val Loss: 0.0335, Val Corr: 0.3162 | LR: 1.00e-04\n",
      "Epoch 16/100 | Train Loss: 0.0360, Train Corr: 0.3531 | Val Loss: 0.0339, Val Corr: 0.3181 | LR: 1.00e-04\n",
      "--> New best model saved at epoch 17\n",
      "Epoch 17/100 | Train Loss: 0.0359, Train Corr: 0.3563 | Val Loss: 0.0334, Val Corr: 0.3226 | LR: 1.00e-04\n",
      "--> New best model saved at epoch 18\n",
      "Epoch 18/100 | Train Loss: 0.0357, Train Corr: 0.3632 | Val Loss: 0.0332, Val Corr: 0.3255 | LR: 1.00e-04\n",
      "Epoch 19/100 | Train Loss: 0.0355, Train Corr: 0.3712 | Val Loss: 0.0332, Val Corr: 0.3279 | LR: 1.00e-04\n",
      "--> New best model saved at epoch 20\n",
      "Epoch 20/100 | Train Loss: 0.0353, Train Corr: 0.3725 | Val Loss: 0.0331, Val Corr: 0.3311 | LR: 1.00e-04\n",
      "--> New best model saved at epoch 21\n",
      "Epoch 21/100 | Train Loss: 0.0353, Train Corr: 0.3774 | Val Loss: 0.0329, Val Corr: 0.3324 | LR: 1.00e-04\n",
      "Epoch 22/100 | Train Loss: 0.0350, Train Corr: 0.3840 | Val Loss: 0.0330, Val Corr: 0.3358 | LR: 1.00e-04\n",
      "Epoch 23/100 | Train Loss: 0.0349, Train Corr: 0.3925 | Val Loss: 0.0331, Val Corr: 0.3355 | LR: 1.00e-04\n",
      "Epoch 24/100 | Train Loss: 0.0347, Train Corr: 0.3890 | Val Loss: 0.0329, Val Corr: 0.3384 | LR: 5.00e-05\n",
      "Epoch 25/100 | Train Loss: 0.0345, Train Corr: 0.3923 | Val Loss: 0.0329, Val Corr: 0.3383 | LR: 5.00e-05\n",
      "--> New best model saved at epoch 26\n",
      "Epoch 26/100 | Train Loss: 0.0344, Train Corr: 0.4006 | Val Loss: 0.0328, Val Corr: 0.3401 | LR: 5.00e-05\n",
      "Epoch 27/100 | Train Loss: 0.0342, Train Corr: 0.4023 | Val Loss: 0.0329, Val Corr: 0.3402 | LR: 5.00e-05\n",
      "Epoch 28/100 | Train Loss: 0.0342, Train Corr: 0.4087 | Val Loss: 0.0329, Val Corr: 0.3399 | LR: 5.00e-05\n",
      "Epoch 29/100 | Train Loss: 0.0341, Train Corr: 0.4082 | Val Loss: 0.0328, Val Corr: 0.3405 | LR: 2.50e-05\n",
      "--> New best model saved at epoch 30\n",
      "Epoch 30/100 | Train Loss: 0.0340, Train Corr: 0.4116 | Val Loss: 0.0326, Val Corr: 0.3425 | LR: 2.50e-05\n",
      "--> New best model saved at epoch 31\n",
      "Epoch 31/100 | Train Loss: 0.0340, Train Corr: 0.4112 | Val Loss: 0.0326, Val Corr: 0.3427 | LR: 2.50e-05\n",
      "Epoch 32/100 | Train Loss: 0.0339, Train Corr: 0.4117 | Val Loss: 0.0327, Val Corr: 0.3427 | LR: 2.50e-05\n",
      "Epoch 33/100 | Train Loss: 0.0338, Train Corr: 0.4151 | Val Loss: 0.0327, Val Corr: 0.3436 | LR: 2.50e-05\n",
      "Epoch 34/100 | Train Loss: 0.0339, Train Corr: 0.4147 | Val Loss: 0.0327, Val Corr: 0.3441 | LR: 1.25e-05\n",
      "Epoch 35/100 | Train Loss: 0.0337, Train Corr: 0.4199 | Val Loss: 0.0327, Val Corr: 0.3442 | LR: 1.25e-05\n",
      "Stopping early at epoch 36 after 5 epochs with no improvement.\n"
     ]
    }
   ],
   "source": [
    "# Run training\n",
    "num_epochs = 100\n",
    "history = train_eval(regressor, train_loader, val_loader, epochs=num_epochs, patience=5)"
   ]
  },
  {
   "cell_type": "code",
   "execution_count": 15,
   "id": "593e96fe-0dc8-47a4-a864-fe59cb26a3e2",
   "metadata": {},
   "outputs": [
    {
     "data": {
      "image/png": "[encoded data removed]",
      "text/plain": [
       "<Figure size 1200x500 with 2 Axes>"
      ]
     },
     "metadata": {},
     "output_type": "display_data"
    }
   ],
   "source": [
    "# Plotting training curves\n",
    "plt.figure(figsize=(12, 5))\n",
    "# Loss curve\n",
    "plt.subplot(1, 2, 1)\n",
    "plt.plot(history['train_loss'], label='Train Loss')\n",
    "plt.plot(history['val_loss'], label='Val Loss')\n",
    "plt.title('Loss over Epochs')\n",
    "plt.xlabel('Epoch')\n",
    "plt.legend()\n",
    "\n",
    "# Pearson correlation curve\n",
    "plt.subplot(1, 2, 2)\n",
    "plt.plot(history['train_corr'], label='Train Pearson Corr')\n",
    "plt.plot(history['val_corr'], label='Val Pearson Corr')\n",
    "plt.title('Pearson Correlation over Epochs')\n",
    "plt.xlabel('Epoch')\n",
    "plt.legend()\n",
    "\n",
    "plt.tight_layout()\n",
    "plt.show()"
   ]
  },
  {
   "cell_type": "code",
   "execution_count": 17,
   "id": "739710ee-4656-4822-8b7b-bad72c42fa6c",
   "metadata": {},
   "outputs": [
    {
     "name": "stdout",
     "output_type": "stream",
     "text": [
      "Admiration: Pearson correlation = 0.4732\n",
      "Amusement: Pearson correlation = 0.3510\n",
      "Determination: Pearson correlation = 0.3656\n",
      "Empathic Pain: Pearson correlation = 0.3886\n",
      "Excitement: Pearson correlation = 0.3360\n",
      "Joy: Pearson correlation = 0.3089\n",
      "Emotion with highest validation correlation: Admiration (0.4732)\n"
     ]
    }
   ],
   "source": [
    "from scipy.stats import pearsonr\n",
    "\n",
    "# Load best model weights\n",
    "best_model_path = os.path.join(MODEL_DIR, 'best_model_mpnet.pt')\n",
    "regressor.load_state_dict(torch.load(best_model_path))\n",
    "regressor.eval()\n",
    "\n",
    "# Gather all predictions and targets\n",
    "all_preds = []\n",
    "all_targets = []\n",
    "with torch.no_grad():\n",
    "    for embeddings, targets in val_loader:\n",
    "        embeddings = embeddings.to(device)\n",
    "        outputs = regressor(embeddings).cpu().numpy()\n",
    "        all_preds.append(outputs)\n",
    "        all_targets.append(targets.numpy())\n",
    "\n",
    "all_preds = np.vstack(all_preds)\n",
    "all_targets = np.vstack(all_targets)\n",
    "\n",
    "# Emotion names\n",
    "emotion_names = ['Admiration', 'Amusement', 'Determination', 'Empathic Pain', 'Excitement', 'Joy']\n",
    "\n",
    "# Compute Pearson correlation for each emotion\n",
    "dim_corrs = {}\n",
    "for i, name in enumerate(emotion_names):\n",
    "    corr_coef, _ = pearsonr(all_preds[:, i], all_targets[:, i])\n",
    "    dim_corrs[name] = corr_coef\n",
    "    print(f\"{name}: Pearson correlation = {corr_coef:.4f}\")\n",
    "\n",
    "# Identify emotion with highest correlation\n",
    "best_emotion = max(dim_corrs, key=dim_corrs.get)\n",
    "best_value = dim_corrs[best_emotion]\n",
    "print(f\"Emotion with highest validation correlation: {best_emotion} ({best_value:.4f})\")"
   ]
  },
  {
   "cell_type": "code",
   "execution_count": null,
   "id": "11be0ae1-1489-41f9-8ede-99d4884da7e8",
   "metadata": {},
   "outputs": [],
   "source": []
  }
 ],
 "metadata": {
  "kernelspec": {
   "display_name": "Python 3 (ipykernel)",
   "language": "python",
   "name": "python3"
  },
  "language_info": {
   "codemirror_mode": {
    "name": "ipython",
    "version": 3
   },
   "file_extension": ".py",
   "mimetype": "text/x-python",
   "name": "python",
   "nbconvert_exporter": "python",
   "pygments_lexer": "ipython3",
   "version": "3.11.4"
  }
 },
 "nbformat": 4,
 "nbformat_minor": 5
}
